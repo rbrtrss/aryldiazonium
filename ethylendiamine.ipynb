{
 "cells": [
  {
   "cell_type": "code",
   "execution_count": 1,
   "metadata": {},
   "outputs": [],
   "source": [
    "import numpy as np\n",
    "from ase.io import read, write\n",
    "from ase.visualize import view\n",
    "from ase.data.pubchem import pubchem_atoms_search, pubchem_conformer_search\n",
    "from ase.build import add_adsorbate\n",
    "from ase.atoms import Atoms\n",
    "from safe_ase import safe_structure, safe_euler_rotation, safe_remove_atom_by_index, safe_add_adsorbate\n",
    "import copy"
   ]
  },
  {
   "cell_type": "code",
   "execution_count": 13,
   "metadata": {},
   "outputs": [
    {
     "name": "stderr",
     "output_type": "stream",
     "text": [
      "/home/roberto/anaconda3/envs/dftb/lib/python3.10/site-packages/ase/data/pubchem.py:79: UserWarning: The structure \"3301\" has more than one conformer in PubChem. By default, the first conformer is returned, please ensure you are using the structure you intend to or use the `ase.data.pubchem.pubchem_conformer_search` function\n",
      "  warnings.warn('The structure \"{}\" has more than one '\n"
     ]
    }
   ],
   "source": [
    "ed = pubchem_atoms_search(cid=3301)"
   ]
  },
  {
   "cell_type": "code",
   "execution_count": 14,
   "metadata": {},
   "outputs": [],
   "source": [
    "write('ed.cif', ed)"
   ]
  },
  {
   "cell_type": "code",
   "execution_count": 15,
   "metadata": {},
   "outputs": [
    {
     "data": {
      "text/plain": [
       "<Popen: returncode: None args: ['/home/roberto/anaconda3/envs/dftb/bin/pytho...>"
      ]
     },
     "execution_count": 15,
     "metadata": {},
     "output_type": "execute_result"
    }
   ],
   "source": [
    "view(read('ed.cif'))"
   ]
  },
  {
   "cell_type": "code",
   "execution_count": 3,
   "metadata": {},
   "outputs": [],
   "source": [
    "mono = read('mono4.cif')"
   ]
  },
  {
   "cell_type": "code",
   "execution_count": 26,
   "metadata": {},
   "outputs": [
    {
     "data": {
      "text/plain": [
       "<Popen: returncode: None args: ['/home/roberto/anaconda3/envs/dftb/bin/pytho...>"
      ]
     },
     "execution_count": 26,
     "metadata": {},
     "output_type": "execute_result"
    }
   ],
   "source": [
    "view(mono*(2,2,1) + ed)"
   ]
  },
  {
   "cell_type": "code",
   "execution_count": 35,
   "metadata": {},
   "outputs": [],
   "source": [
    "ed.positions[:,2] += np.abs(ed.positions[:,2].min())"
   ]
  },
  {
   "cell_type": "code",
   "execution_count": 4,
   "metadata": {},
   "outputs": [],
   "source": [
    "def set_to_origin(arr):\n",
    "    arr[:,0] -= arr[:,0].min()\n",
    "    arr[:,1] -= arr[:,1].min()\n",
    "    arr[:,2] -= arr[:,2].min()\n",
    "    return arr"
   ]
  },
  {
   "cell_type": "code",
   "execution_count": 5,
   "metadata": {},
   "outputs": [],
   "source": [
    "def move_to(arr, x, y, z):\n",
    "    arr[:,0] += x\n",
    "    arr[:,1] += y\n",
    "    arr[:,2] += z\n",
    "    return arr"
   ]
  },
  {
   "cell_type": "code",
   "execution_count": 37,
   "metadata": {},
   "outputs": [],
   "source": [
    "ed.positions = set_to_origin(ed.positions)"
   ]
  },
  {
   "cell_type": "code",
   "execution_count": 7,
   "metadata": {},
   "outputs": [],
   "source": [
    "ed.positions = move_to(ed.positions, 0.72252, 1.118795, 14)"
   ]
  },
  {
   "cell_type": "code",
   "execution_count": 38,
   "metadata": {},
   "outputs": [
    {
     "data": {
      "text/plain": [
       "<Popen: returncode: None args: ['/home/roberto/anaconda3/envs/dftb/bin/pytho...>"
      ]
     },
     "execution_count": 38,
     "metadata": {},
     "output_type": "execute_result"
    }
   ],
   "source": [
    "view(ed)"
   ]
  },
  {
   "cell_type": "code",
   "execution_count": 72,
   "metadata": {},
   "outputs": [
    {
     "data": {
      "text/plain": [
       "<Popen: returncode: None args: ['/home/roberto/anaconda3/envs/dftb/bin/pytho...>"
      ]
     },
     "execution_count": 72,
     "metadata": {},
     "output_type": "execute_result"
    }
   ],
   "source": [
    "view(mono*(2,1,1))"
   ]
  },
  {
   "cell_type": "code",
   "execution_count": 77,
   "metadata": {},
   "outputs": [],
   "source": [
    "mono21 = mono*(2,1,1)"
   ]
  },
  {
   "cell_type": "code",
   "execution_count": 78,
   "metadata": {},
   "outputs": [
    {
     "data": {
      "text/plain": [
       "Cell([6.64404, 4.56659, 22.47])"
      ]
     },
     "execution_count": 78,
     "metadata": {},
     "output_type": "execute_result"
    }
   ],
   "source": [
    "mono21.cell"
   ]
  },
  {
   "cell_type": "code",
   "execution_count": 9,
   "metadata": {},
   "outputs": [],
   "source": [
    "def freeze_atoms(structure: Atoms, freeze_index = []) -> np.array:\n",
    "    cons = np.zeros((len(structure),3), dtype=int)\n",
    "    for f in freeze_index:\n",
    "        cons[f] = 1\n",
    "    return cons"
   ]
  },
  {
   "cell_type": "code",
   "execution_count": 10,
   "metadata": {},
   "outputs": [],
   "source": [
    "def pretty_coordinates(structure: Atoms, frozen_atoms = []):\n",
    "    symbols = np.array(structure.get_chemical_symbols())\n",
    "    symbols.shape = (len(symbols), 1) # Fix dimensions in order to concatenate\n",
    "    matched = np.concatenate((symbols, structure.get_positions(), freeze_atoms(structure, frozen_atoms)), axis=1)\n",
    "    # matched = np.concatenate((symbols, structure.get_positions()), axis=1)\n",
    "    pretty = ['      '.join(coord) for coord in matched]\n",
    "    return pretty"
   ]
  },
  {
   "cell_type": "code",
   "execution_count": 11,
   "metadata": {},
   "outputs": [],
   "source": [
    "def pretty_cell(structure: Atoms, distance: float):\n",
    "    cell = structure.cell\n",
    "    cell[2] = cell[2] + [0,0,distance]\n",
    "    axis = [ c for c in cell]\n",
    "    return [ '      '.join([str(i) for i in a]) for a in axis] # Doble recursion"
   ]
  },
  {
   "cell_type": "code",
   "execution_count": 12,
   "metadata": {},
   "outputs": [],
   "source": [
    "from jinja2 import Environment, FileSystemLoader"
   ]
  },
  {
   "cell_type": "code",
   "execution_count": 16,
   "metadata": {},
   "outputs": [],
   "source": [
    "def build_ed_mono(z_distance, x = 0.72252, y = 1.18795):\n",
    "    z_max = 12.305 # uppermost postion of p layer\n",
    "    mono = read('mono4.cif')\n",
    "    ed = read('ed.cif')\n",
    "    mono21 = mono*(2,1,1)\n",
    "    ed.positions = set_to_origin(ed.positions)\n",
    "    ed.positions = move_to(ed.positions, x, y, z_max + z_distance)\n",
    "    both_layers = mono21 + ed\n",
    "    both_layers.cell[2,2] = both_layers.positions[:,2].max() + 5\n",
    "    return both_layers"
   ]
  },
  {
   "cell_type": "code",
   "execution_count": 17,
   "metadata": {},
   "outputs": [],
   "source": [
    "def gen_ed_mono_input(template_name: str,\n",
    "    prefix: str, distance: float,\n",
    "    frozen_atoms = []\n",
    "):\n",
    "    environment = Environment(loader=FileSystemLoader(\"templates/\"))\n",
    "    template = environment.get_template(template_name)\n",
    "    both = build_ed_mono(distance)\n",
    "    s_distance = \"{:.2f}\".format(distance)\n",
    "    input_render = {\n",
    "    \"prefijo\": prefix + s_distance,\n",
    "    \"dirSalida\": prefix + s_distance,\n",
    "    \"nat\": len(both),\n",
    "    \"coordenadas\": pretty_coordinates(both, frozen_atoms),\n",
    "    \"ejes\": pretty_cell(both, distance)\n",
    "    }\n",
    "    with open(prefix + s_distance + \"-\" + template_name,'w',encoding = 'utf-8') as f:\n",
    "        f.write(template.render(input_render))\n",
    "        f.close()"
   ]
  },
  {
   "cell_type": "code",
   "execution_count": 19,
   "metadata": {},
   "outputs": [
    {
     "data": {
      "text/plain": [
       "<Popen: returncode: None args: ['/home/roberto/anaconda3/envs/dftb/bin/pytho...>"
      ]
     },
     "execution_count": 19,
     "metadata": {},
     "output_type": "execute_result"
    }
   ],
   "source": [
    "view(build_ed_mono(2.0))"
   ]
  },
  {
   "cell_type": "code",
   "execution_count": 20,
   "metadata": {},
   "outputs": [],
   "source": [
    "gen_ed_mono_input('scf.in', 'ed', 2.3)"
   ]
  },
  {
   "cell_type": "code",
   "execution_count": 21,
   "metadata": {},
   "outputs": [
    {
     "data": {
      "text/plain": [
       "array([3.25, 3.3 , 3.35, 3.4 , 3.45, 3.5 , 3.55, 3.6 , 3.65, 3.7 , 3.75])"
      ]
     },
     "execution_count": 21,
     "metadata": {},
     "output_type": "execute_result"
    }
   ],
   "source": [
    "np.arange(1.5,3.80,0.05)"
   ]
  },
  {
   "cell_type": "code",
   "execution_count": 22,
   "metadata": {},
   "outputs": [
    {
     "data": {
      "text/plain": [
       "[None, None, None, None, None, None, None, None, None, None]"
      ]
     },
     "execution_count": 22,
     "metadata": {},
     "output_type": "execute_result"
    }
   ],
   "source": [
    "[gen_ed_mono_input('scf.in', 'ed', i) for i in np.arange(1.5,6.5,0.5)]"
   ]
  },
  {
   "cell_type": "code",
   "execution_count": 44,
   "metadata": {},
   "outputs": [],
   "source": [
    "def build_ed_sandwich(z_distance, x = 0.72252, y = 1.18795):\n",
    "    z_max = 12.305 # uppermost postion of p layer\n",
    "    delta_ed = 1.770\n",
    "    delta_intra = 2.137\n",
    "    lower = read('mono4.cif')\n",
    "    upper = read('mono4.cif')\n",
    "    ed = read('ed.cif')\n",
    "    lower21 = lower*(2,1,1)\n",
    "    upper21 = upper*(2,1,1)\n",
    "    ed.positions = set_to_origin(ed.positions)\n",
    "    ed.positions = move_to(ed.positions, x, y, z_max + z_distance)\n",
    "    upper21.positions = move_to(upper21.positions, 0, 0, delta_intra + delta_ed + (2 * z_distance))\n",
    "    three_layers = lower21 + ed + upper21\n",
    "    three_layers.cell[2,2] = three_layers.positions[:,2].max() + 5\n",
    "    return three_layers"
   ]
  },
  {
   "cell_type": "code",
   "execution_count": 46,
   "metadata": {},
   "outputs": [],
   "source": [
    "def gen_ed_sandwich_input(template_name: str,\n",
    "    prefix: str, distance: float,\n",
    "    frozen_atoms = []\n",
    "):\n",
    "    environment = Environment(loader=FileSystemLoader(\"templates/\"))\n",
    "    template = environment.get_template(template_name)\n",
    "    both = build_ed_sandwich(distance)\n",
    "    s_distance = \"{:.2f}\".format(distance)\n",
    "    input_render = {\n",
    "    \"prefijo\": prefix + s_distance,\n",
    "    \"dirSalida\": prefix + s_distance,\n",
    "    \"nat\": len(both),\n",
    "    \"coordenadas\": pretty_coordinates(both, frozen_atoms),\n",
    "    \"ejes\": pretty_cell(both, distance)\n",
    "    }\n",
    "    with open(prefix + s_distance + \"-\" + template_name,'w',encoding = 'utf-8') as f:\n",
    "        f.write(template.render(input_render))\n",
    "        f.close()"
   ]
  },
  {
   "cell_type": "code",
   "execution_count": null,
   "metadata": {},
   "outputs": [],
   "source": []
  }
 ],
 "metadata": {
  "kernelspec": {
   "display_name": "dftb",
   "language": "python",
   "name": "python3"
  },
  "language_info": {
   "codemirror_mode": {
    "name": "ipython",
    "version": 3
   },
   "file_extension": ".py",
   "mimetype": "text/x-python",
   "name": "python",
   "nbconvert_exporter": "python",
   "pygments_lexer": "ipython3",
   "version": "3.10.2"
  },
  "orig_nbformat": 4
 },
 "nbformat": 4,
 "nbformat_minor": 2
}
