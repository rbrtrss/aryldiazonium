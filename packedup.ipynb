{
 "cells": [
  {
   "cell_type": "code",
   "execution_count": 1,
   "metadata": {},
   "outputs": [],
   "source": [
    "import numpy as np\n",
    "from jinja2 import Environment, FileSystemLoader\n",
    "from ase.atoms import Atoms\n",
    "from ase.io import read\n",
    "from ase.visualize import view"
   ]
  },
  {
   "attachments": {},
   "cell_type": "markdown",
   "metadata": {},
   "source": [
    "### Helper functions"
   ]
  },
  {
   "cell_type": "code",
   "execution_count": 2,
   "metadata": {},
   "outputs": [],
   "source": [
    "def set_to_origin(arr):\n",
    "    arr[:,0] -= arr[:,0].min()\n",
    "    arr[:,1] -= arr[:,1].min()\n",
    "    arr[:,2] -= arr[:,2].min()\n",
    "    return arr"
   ]
  },
  {
   "cell_type": "code",
   "execution_count": 3,
   "metadata": {},
   "outputs": [],
   "source": [
    "def center_by_index(arr, idx):\n",
    "    arr[:,0] -= arr[idx,0]\n",
    "    arr[:,1] -= arr[idx,1]\n",
    "    arr[:,2] -= arr[idx,2]\n",
    "    return arr"
   ]
  },
  {
   "cell_type": "code",
   "execution_count": 4,
   "metadata": {},
   "outputs": [],
   "source": [
    "def move_to(arr, x, y, z):\n",
    "    arr[:,0] += x\n",
    "    arr[:,1] += y\n",
    "    arr[:,2] += z\n",
    "    return arr"
   ]
  },
  {
   "cell_type": "code",
   "execution_count": 5,
   "metadata": {},
   "outputs": [],
   "source": [
    "def freeze_atoms(structure: Atoms, freeze_index = []) -> np.array:\n",
    "    cons = np.ones((len(structure),3), dtype=int)\n",
    "    for f in freeze_index:\n",
    "        cons[f] = 0\n",
    "    return cons"
   ]
  },
  {
   "cell_type": "code",
   "execution_count": 6,
   "metadata": {},
   "outputs": [],
   "source": [
    "def pretty_coordinates(structure: Atoms, frozen_atoms = []):\n",
    "    symbols = np.array(structure.get_chemical_symbols())\n",
    "    symbols.shape = (len(symbols), 1) # Fix dimensions in order to concatenate\n",
    "    matched = np.concatenate((symbols, structure.get_positions(), freeze_atoms(structure, frozen_atoms)), axis=1)\n",
    "    pretty = ['      '.join(coord) for coord in matched]\n",
    "    return pretty"
   ]
  },
  {
   "cell_type": "code",
   "execution_count": 7,
   "metadata": {},
   "outputs": [],
   "source": [
    "def pretty_cell(structure: Atoms, distance: float):\n",
    "    cell = structure.cell\n",
    "    cell[2] = cell[2] + [0,0,distance]\n",
    "    axis = [ c for c in cell]\n",
    "    return [ '      '.join([str(i) for i in a]) for a in axis] # Doble recursion"
   ]
  },
  {
   "attachments": {},
   "cell_type": "markdown",
   "metadata": {},
   "source": [
    "### Main function"
   ]
  },
  {
   "cell_type": "code",
   "execution_count": 8,
   "metadata": {},
   "outputs": [],
   "source": [
    "def build_mono_sub(z_distance, mono, sub, idx_sub):\n",
    "    z_max = mono.positions[:,2].max() # uppermost postion of p layer\n",
    "    y_max = mono.positions[:,1].max() \n",
    "    x_max = mono.positions[:,0].max() \n",
    "    y_min = mono.positions[:,1].min() \n",
    "    x_min = mono.positions[:,0].min() \n",
    "    sub.postions = center_by_index(sub.positions,idx_sub)\n",
    "    delta_y = (y_max - y_min) / 2. + y_min\n",
    "    delta_x = (x_max - x_min) / 2. + x_min\n",
    "    sub.positions = move_to(sub.positions, delta_x, delta_y, z_max + z_distance)\n",
    "    both_layers = mono + sub\n",
    "    both_layers.cell[2,2] = both_layers.positions[:,2].max() + 5\n",
    "    return both_layers"
   ]
  },
  {
   "cell_type": "code",
   "execution_count": 9,
   "metadata": {},
   "outputs": [],
   "source": [
    "def gen_mono_sub_input(template_name: str,\n",
    "    prefix: str, distance: float,\n",
    "    mono, sub, idx_sub,\n",
    "    frozen_atoms = []\n",
    "):\n",
    "    environment = Environment(loader=FileSystemLoader(\"templates/\"))\n",
    "    template = environment.get_template(template_name)\n",
    "    both = build_mono_sub(distance, mono, sub, idx_sub)\n",
    "    s_distance = \"{:.2f}\".format(distance)\n",
    "    input_render = {\n",
    "    \"prefijo\": prefix + s_distance,\n",
    "    \"dirSalida\": prefix + s_distance,\n",
    "    \"nat\": len(both),\n",
    "    \"ntyp\": len(set(both.get_chemical_symbols())),\n",
    "    \"coordenadas\": pretty_coordinates(both, frozen_atoms),\n",
    "    \"ejes\": pretty_cell(both, distance)\n",
    "    }\n",
    "    with open(prefix + s_distance + \"-\" + template_name,'w',encoding = 'utf-8') as f:\n",
    "        f.write(template.render(input_render))\n",
    "        f.close()"
   ]
  },
  {
   "attachments": {},
   "cell_type": "markdown",
   "metadata": {},
   "source": [
    "# Probando cosas"
   ]
  },
  {
   "cell_type": "code",
   "execution_count": 10,
   "metadata": {},
   "outputs": [],
   "source": [
    "mono = read('mono4.cif')"
   ]
  },
  {
   "cell_type": "code",
   "execution_count": 11,
   "metadata": {},
   "outputs": [],
   "source": [
    "mono22 = mono*(2,2,1)"
   ]
  },
  {
   "cell_type": "code",
   "execution_count": 15,
   "metadata": {},
   "outputs": [],
   "source": [
    "acn = read('acn.cif')"
   ]
  },
  {
   "cell_type": "code",
   "execution_count": 16,
   "metadata": {},
   "outputs": [
    {
     "data": {
      "text/plain": [
       "<Popen: returncode: None args: ['/home/roberto/anaconda3/envs/dftb/bin/pytho...>"
      ]
     },
     "execution_count": 16,
     "metadata": {},
     "output_type": "execute_result"
    }
   ],
   "source": [
    "view(build_mono_sub(2.0, mono22, acn, 2))"
   ]
  },
  {
   "cell_type": "code",
   "execution_count": 17,
   "metadata": {},
   "outputs": [],
   "source": [
    "gen_mono_sub_input('scf.in',\n",
    "    'nitrilo', 2.33,\n",
    "    mono22, acn, 2,\n",
    "    []\n",
    ")"
   ]
  },
  {
   "cell_type": "code",
   "execution_count": 19,
   "metadata": {},
   "outputs": [
    {
     "data": {
      "text/plain": [
       "[None, None, None, None, None, None, None]"
      ]
     },
     "execution_count": 19,
     "metadata": {},
     "output_type": "execute_result"
    }
   ],
   "source": [
    "[gen_mono_sub_input('scf.in', 'acn', i, mono22, acn, 2) for i in np.arange(2.00,5.5,0.5)]"
   ]
  },
  {
   "cell_type": "code",
   "execution_count": null,
   "metadata": {},
   "outputs": [],
   "source": []
  }
 ],
 "metadata": {
  "kernelspec": {
   "display_name": "dftb",
   "language": "python",
   "name": "python3"
  },
  "language_info": {
   "codemirror_mode": {
    "name": "ipython",
    "version": 3
   },
   "file_extension": ".py",
   "mimetype": "text/x-python",
   "name": "python",
   "nbconvert_exporter": "python",
   "pygments_lexer": "ipython3",
   "version": "3.10.2"
  },
  "orig_nbformat": 4
 },
 "nbformat": 4,
 "nbformat_minor": 2
}
