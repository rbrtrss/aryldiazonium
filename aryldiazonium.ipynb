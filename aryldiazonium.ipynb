{
 "cells": [
  {
   "cell_type": "code",
   "execution_count": 1,
   "metadata": {},
   "outputs": [
    {
     "name": "stdout",
     "output_type": "stream",
     "text": [
      "Requirement already satisfied: safe-ase in /home/roberto/anaconda3/envs/dftb/lib/python3.10/site-packages (0.0.2)\n",
      "Requirement already satisfied: ase in /home/roberto/anaconda3/envs/dftb/lib/python3.10/site-packages (from safe-ase) (3.22.1)\n",
      "Requirement already satisfied: scipy>=1.1.0 in /home/roberto/anaconda3/envs/dftb/lib/python3.10/site-packages (from ase->safe-ase) (1.8.0)\n",
      "Requirement already satisfied: matplotlib>=3.1.0 in /home/roberto/anaconda3/envs/dftb/lib/python3.10/site-packages (from ase->safe-ase) (3.5.1)\n",
      "Requirement already satisfied: numpy>=1.15.0 in /home/roberto/anaconda3/envs/dftb/lib/python3.10/site-packages (from ase->safe-ase) (1.22.2)\n",
      "Requirement already satisfied: pyparsing>=2.2.1 in /home/roberto/anaconda3/envs/dftb/lib/python3.10/site-packages (from matplotlib>=3.1.0->ase->safe-ase) (3.0.7)\n",
      "Requirement already satisfied: python-dateutil>=2.7 in /home/roberto/.local/lib/python3.10/site-packages (from matplotlib>=3.1.0->ase->safe-ase) (2.8.2)\n",
      "Requirement already satisfied: kiwisolver>=1.0.1 in /home/roberto/anaconda3/envs/dftb/lib/python3.10/site-packages (from matplotlib>=3.1.0->ase->safe-ase) (1.3.2)\n",
      "Requirement already satisfied: fonttools>=4.22.0 in /home/roberto/anaconda3/envs/dftb/lib/python3.10/site-packages (from matplotlib>=3.1.0->ase->safe-ase) (4.29.1)\n",
      "Requirement already satisfied: pillow>=6.2.0 in /home/roberto/anaconda3/envs/dftb/lib/python3.10/site-packages (from matplotlib>=3.1.0->ase->safe-ase) (9.0.1)\n",
      "Requirement already satisfied: packaging>=20.0 in /home/roberto/anaconda3/envs/dftb/lib/python3.10/site-packages (from matplotlib>=3.1.0->ase->safe-ase) (21.3)\n",
      "Requirement already satisfied: cycler>=0.10 in /home/roberto/anaconda3/envs/dftb/lib/python3.10/site-packages (from matplotlib>=3.1.0->ase->safe-ase) (0.11.0)\n",
      "Requirement already satisfied: six>=1.5 in /home/roberto/anaconda3/envs/dftb/lib/python3.10/site-packages (from python-dateutil>=2.7->matplotlib>=3.1.0->ase->safe-ase) (1.16.0)\n",
      "Note: you may need to restart the kernel to use updated packages.\n"
     ]
    }
   ],
   "source": [
    "%pip install -U safe-ase"
   ]
  },
  {
   "cell_type": "code",
   "execution_count": 17,
   "metadata": {},
   "outputs": [],
   "source": [
    "from ase.io import read, write\n",
    "from ase.visualize import view\n",
    "from ase.data.pubchem import pubchem_atoms_search, pubchem_conformer_search\n",
    "from ase.build import add_adsorbate\n",
    "from ase.atoms import Atoms\n",
    "from safe_ase import safe_structure, safe_euler_rotation, safe_remove_atom_by_index"
   ]
  },
  {
   "cell_type": "code",
   "execution_count": 4,
   "metadata": {},
   "outputs": [],
   "source": [
    "mono = read('mono4.cif')"
   ]
  },
  {
   "cell_type": "code",
   "execution_count": 5,
   "metadata": {},
   "outputs": [],
   "source": [
    "ryder = {'ben': 241, 'nit': 7416, 'ani': 7519, 'eth': 7500, 'bza': 243}"
   ]
  },
  {
   "cell_type": "code",
   "execution_count": 6,
   "metadata": {},
   "outputs": [
    {
     "name": "stderr",
     "output_type": "stream",
     "text": [
      "/home/roberto/anaconda3/envs/dftb/lib/python3.10/site-packages/ase/data/pubchem.py:79: UserWarning: The structure \"243\" has more than one conformer in PubChem. By default, the first conformer is returned, please ensure you are using the structure you intend to or use the `ase.data.pubchem.pubchem_conformer_search` function\n",
      "  warnings.warn('The structure \"{}\" has more than one '\n"
     ]
    }
   ],
   "source": [
    "ryder_structures = {key: pubchem_atoms_search(cid=value) for key, value in ryder.items()}"
   ]
  },
  {
   "cell_type": "code",
   "execution_count": 11,
   "metadata": {},
   "outputs": [],
   "source": [
    "ben = safe_structure(ryder_structures, 'ben')"
   ]
  },
  {
   "cell_type": "code",
   "execution_count": 13,
   "metadata": {},
   "outputs": [
    {
     "data": {
      "text/plain": [
       "<Popen: returncode: None args: ['/home/roberto/anaconda3/envs/dftb/bin/pytho...>"
      ]
     },
     "execution_count": 13,
     "metadata": {},
     "output_type": "execute_result"
    }
   ],
   "source": [
    "view(ben)"
   ]
  },
  {
   "cell_type": "code",
   "execution_count": 15,
   "metadata": {},
   "outputs": [],
   "source": [
    "safe_ben = safe_euler_rotation(ben,0,90,0)"
   ]
  },
  {
   "cell_type": "code",
   "execution_count": 16,
   "metadata": {},
   "outputs": [
    {
     "data": {
      "text/plain": [
       "<Popen: returncode: None args: ['/home/roberto/anaconda3/envs/dftb/bin/pytho...>"
      ]
     },
     "execution_count": 16,
     "metadata": {},
     "output_type": "execute_result"
    }
   ],
   "source": [
    "view(safe_ben)"
   ]
  },
  {
   "cell_type": "code",
   "execution_count": null,
   "metadata": {},
   "outputs": [],
   "source": []
  }
 ],
 "metadata": {
  "kernelspec": {
   "display_name": "Python 3.10.2 ('dftb')",
   "language": "python",
   "name": "python3"
  },
  "language_info": {
   "codemirror_mode": {
    "name": "ipython",
    "version": 3
   },
   "file_extension": ".py",
   "mimetype": "text/x-python",
   "name": "python",
   "nbconvert_exporter": "python",
   "pygments_lexer": "ipython3",
   "version": "3.10.2"
  },
  "orig_nbformat": 4,
  "vscode": {
   "interpreter": {
    "hash": "2104e57b9cd7eafa5e83621fe068abfd4f61bfd588e7ca7620fd2acf80cdc3ab"
   }
  }
 },
 "nbformat": 4,
 "nbformat_minor": 2
}
