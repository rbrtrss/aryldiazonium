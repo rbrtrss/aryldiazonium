{
 "cells": [
  {
   "cell_type": "code",
   "execution_count": 1,
   "metadata": {},
   "outputs": [
    {
     "name": "stdout",
     "output_type": "stream",
     "text": [
      "Requirement already satisfied: safe-ase in /home/roberto/anaconda3/envs/dftb/lib/python3.10/site-packages (0.0.2)\n",
      "Requirement already satisfied: ase in /home/roberto/anaconda3/envs/dftb/lib/python3.10/site-packages (from safe-ase) (3.22.1)\n",
      "Requirement already satisfied: scipy>=1.1.0 in /home/roberto/anaconda3/envs/dftb/lib/python3.10/site-packages (from ase->safe-ase) (1.8.0)\n",
      "Requirement already satisfied: matplotlib>=3.1.0 in /home/roberto/anaconda3/envs/dftb/lib/python3.10/site-packages (from ase->safe-ase) (3.5.1)\n",
      "Requirement already satisfied: numpy>=1.15.0 in /home/roberto/anaconda3/envs/dftb/lib/python3.10/site-packages (from ase->safe-ase) (1.22.2)\n",
      "Requirement already satisfied: pyparsing>=2.2.1 in /home/roberto/anaconda3/envs/dftb/lib/python3.10/site-packages (from matplotlib>=3.1.0->ase->safe-ase) (3.0.7)\n",
      "Requirement already satisfied: python-dateutil>=2.7 in /home/roberto/.local/lib/python3.10/site-packages (from matplotlib>=3.1.0->ase->safe-ase) (2.8.2)\n",
      "Requirement already satisfied: kiwisolver>=1.0.1 in /home/roberto/anaconda3/envs/dftb/lib/python3.10/site-packages (from matplotlib>=3.1.0->ase->safe-ase) (1.3.2)\n",
      "Requirement already satisfied: fonttools>=4.22.0 in /home/roberto/anaconda3/envs/dftb/lib/python3.10/site-packages (from matplotlib>=3.1.0->ase->safe-ase) (4.29.1)\n",
      "Requirement already satisfied: pillow>=6.2.0 in /home/roberto/anaconda3/envs/dftb/lib/python3.10/site-packages (from matplotlib>=3.1.0->ase->safe-ase) (9.0.1)\n",
      "Requirement already satisfied: packaging>=20.0 in /home/roberto/anaconda3/envs/dftb/lib/python3.10/site-packages (from matplotlib>=3.1.0->ase->safe-ase) (21.3)\n",
      "Requirement already satisfied: cycler>=0.10 in /home/roberto/anaconda3/envs/dftb/lib/python3.10/site-packages (from matplotlib>=3.1.0->ase->safe-ase) (0.11.0)\n",
      "Requirement already satisfied: six>=1.5 in /home/roberto/anaconda3/envs/dftb/lib/python3.10/site-packages (from python-dateutil>=2.7->matplotlib>=3.1.0->ase->safe-ase) (1.16.0)\n",
      "Note: you may need to restart the kernel to use updated packages.\n"
     ]
    }
   ],
   "source": [
    "%pip install -U safe-ase"
   ]
  },
  {
   "cell_type": "code",
   "execution_count": 1,
   "metadata": {},
   "outputs": [],
   "source": [
    "from ase.io import read, write\n",
    "from ase.visualize import view\n",
    "from ase.data.pubchem import pubchem_atoms_search, pubchem_conformer_search\n",
    "from ase.build import add_adsorbate\n",
    "from ase.atoms import Atoms\n",
    "from safe_ase import safe_structure, safe_euler_rotation, safe_remove_atom_by_index, safe_add_adsorbate\n",
    "import copy"
   ]
  },
  {
   "cell_type": "code",
   "execution_count": 2,
   "metadata": {},
   "outputs": [],
   "source": [
    "mono = read('mono4.cif')"
   ]
  },
  {
   "cell_type": "code",
   "execution_count": 3,
   "metadata": {},
   "outputs": [],
   "source": [
    "ryder = {'ben': 241, 'nit': 7416, 'ani': 7519, 'eth': 7500, 'bza': 243}"
   ]
  },
  {
   "cell_type": "code",
   "execution_count": 4,
   "metadata": {},
   "outputs": [
    {
     "name": "stderr",
     "output_type": "stream",
     "text": [
      "/home/roberto/anaconda3/envs/dftb/lib/python3.10/site-packages/ase/data/pubchem.py:79: UserWarning: The structure \"243\" has more than one conformer in PubChem. By default, the first conformer is returned, please ensure you are using the structure you intend to or use the `ase.data.pubchem.pubchem_conformer_search` function\n",
      "  warnings.warn('The structure \"{}\" has more than one '\n"
     ]
    }
   ],
   "source": [
    "ryder_structures = {key: pubchem_atoms_search(cid=value) for key, value in ryder.items()}"
   ]
  },
  {
   "cell_type": "code",
   "execution_count": 5,
   "metadata": {},
   "outputs": [],
   "source": [
    "ben = safe_structure(ryder_structures, 'ben')"
   ]
  },
  {
   "cell_type": "code",
   "execution_count": 6,
   "metadata": {},
   "outputs": [
    {
     "data": {
      "text/plain": [
       "<Popen: returncode: None args: ['/home/roberto/anaconda3/envs/dftb/bin/pytho...>"
      ]
     },
     "execution_count": 6,
     "metadata": {},
     "output_type": "execute_result"
    }
   ],
   "source": [
    "view(ben)"
   ]
  },
  {
   "cell_type": "code",
   "execution_count": 6,
   "metadata": {},
   "outputs": [],
   "source": [
    "safe_ben = safe_euler_rotation(ben,0,90,0)"
   ]
  },
  {
   "cell_type": "code",
   "execution_count": 7,
   "metadata": {},
   "outputs": [
    {
     "data": {
      "text/plain": [
       "<Popen: returncode: None args: ['/home/roberto/anaconda3/envs/dftb/bin/pytho...>"
      ]
     },
     "execution_count": 7,
     "metadata": {},
     "output_type": "execute_result"
    }
   ],
   "source": [
    "view(safe_ben)"
   ]
  },
  {
   "cell_type": "code",
   "execution_count": 9,
   "metadata": {},
   "outputs": [],
   "source": [
    "trim_ben  = safe_remove_atom_by_index(safe_ben, 9)"
   ]
  },
  {
   "cell_type": "code",
   "execution_count": 10,
   "metadata": {},
   "outputs": [
    {
     "data": {
      "text/plain": [
       "<Popen: returncode: None args: ['/home/roberto/anaconda3/envs/dftb/bin/pytho...>"
      ]
     },
     "execution_count": 10,
     "metadata": {},
     "output_type": "execute_result"
    }
   ],
   "source": [
    "view(trim_ben)"
   ]
  },
  {
   "cell_type": "code",
   "execution_count": 11,
   "metadata": {},
   "outputs": [
    {
     "data": {
      "text/plain": [
       "array([ 1.0400e-02, -1.0000e-04, -1.3948e+00])"
      ]
     },
     "execution_count": 11,
     "metadata": {},
     "output_type": "execute_result"
    }
   ],
   "source": [
    "trim_ben[3].position"
   ]
  },
  {
   "cell_type": "code",
   "execution_count": 10,
   "metadata": {},
   "outputs": [],
   "source": [
    "def diazonium_sub(substrate: Atoms, sub_index: int, cn=1.379, nn=1.093):\n",
    "    sub_pos = substrate[sub_index].position\n",
    "    up_n = copy.deepcopy(sub_pos)\n",
    "    down_n = copy.deepcopy(sub_pos)\n",
    "    up_n[2] = up_n[2] - cn\n",
    "    down_n[2] = up_n[2] - nn\n",
    "    diazo = Atoms('N2', positions=(up_n, down_n))\n",
    "    return substrate + diazo\n"
   ]
  },
  {
   "cell_type": "code",
   "execution_count": 11,
   "metadata": {},
   "outputs": [],
   "source": [
    "benzenediazonium = diazonium_sub(trim_ben,3)"
   ]
  },
  {
   "cell_type": "code",
   "execution_count": 12,
   "metadata": {},
   "outputs": [
    {
     "data": {
      "text/plain": [
       "<Popen: returncode: None args: ['/home/roberto/anaconda3/envs/dftb/bin/pytho...>"
      ]
     },
     "execution_count": 12,
     "metadata": {},
     "output_type": "execute_result"
    }
   ],
   "source": [
    "view(benzenediazonium)"
   ]
  },
  {
   "cell_type": "code",
   "execution_count": 15,
   "metadata": {},
   "outputs": [],
   "source": [
    "bzdz = pubchem_atoms_search(cid=9718)"
   ]
  },
  {
   "cell_type": "code",
   "execution_count": 16,
   "metadata": {},
   "outputs": [
    {
     "data": {
      "text/plain": [
       "<Popen: returncode: None args: ['/home/roberto/anaconda3/envs/dftb/bin/pytho...>"
      ]
     },
     "execution_count": 16,
     "metadata": {},
     "output_type": "execute_result"
    }
   ],
   "source": [
    "view(bzdz)"
   ]
  },
  {
   "cell_type": "code",
   "execution_count": 33,
   "metadata": {},
   "outputs": [
    {
     "data": {
      "text/plain": [
       "<Popen: returncode: None args: ['/home/roberto/anaconda3/envs/dftb/bin/pytho...>"
      ]
     },
     "execution_count": 33,
     "metadata": {},
     "output_type": "execute_result"
    }
   ],
   "source": [
    "view(safe_euler_rotation(bzdz,0,0,0))"
   ]
  },
  {
   "cell_type": "code",
   "execution_count": 13,
   "metadata": {},
   "outputs": [],
   "source": [
    "mono33 = mono*(3,3,1)"
   ]
  },
  {
   "cell_type": "code",
   "execution_count": 14,
   "metadata": {},
   "outputs": [
    {
     "data": {
      "text/plain": [
       "<Popen: returncode: None args: ['/home/roberto/anaconda3/envs/dftb/bin/pytho...>"
      ]
     },
     "execution_count": 14,
     "metadata": {},
     "output_type": "execute_result"
    }
   ],
   "source": [
    "view(mono33)"
   ]
  },
  {
   "cell_type": "code",
   "execution_count": 16,
   "metadata": {},
   "outputs": [],
   "source": [
    "monodbz = safe_add_adsorbate(mono33,19,benzenediazonium,12, 1.53)"
   ]
  },
  {
   "cell_type": "code",
   "execution_count": 17,
   "metadata": {},
   "outputs": [
    {
     "data": {
      "text/plain": [
       "<Popen: returncode: None args: ['/home/roberto/anaconda3/envs/dftb/bin/pytho...>"
      ]
     },
     "execution_count": 17,
     "metadata": {},
     "output_type": "execute_result"
    }
   ],
   "source": [
    "view(monodbz)"
   ]
  },
  {
   "cell_type": "code",
   "execution_count": 18,
   "metadata": {},
   "outputs": [
    {
     "data": {
      "text/plain": [
       "array([[ 0.        ,  2.67588474, 10.1683491 ],\n",
       "       [ 1.66101   ,  4.17400026, 10.1683491 ],\n",
       "       [ 0.        ,  1.89070526, 12.304572  ],\n",
       "       [ 1.66101   ,  0.39258974, 12.304572  ],\n",
       "       [ 0.        ,  7.24247474, 10.1683491 ],\n",
       "       [ 1.66101   ,  8.74059026, 10.1683491 ],\n",
       "       [ 0.        ,  6.45729526, 12.304572  ],\n",
       "       [ 1.66101   ,  4.95917974, 12.304572  ],\n",
       "       [ 0.        , 11.80906474, 10.1683491 ],\n",
       "       [ 1.66101   , 13.30718026, 10.1683491 ],\n",
       "       [ 0.        , 11.02388526, 12.304572  ],\n",
       "       [ 1.66101   ,  9.52576974, 12.304572  ],\n",
       "       [ 3.32202   ,  2.67588474, 10.1683491 ],\n",
       "       [ 4.98303   ,  4.17400026, 10.1683491 ],\n",
       "       [ 3.32202   ,  1.89070526, 12.304572  ],\n",
       "       [ 4.98303   ,  0.39258974, 12.304572  ],\n",
       "       [ 3.32202   ,  7.24247474, 10.1683491 ],\n",
       "       [ 4.98303   ,  8.74059026, 10.1683491 ],\n",
       "       [ 3.32202   ,  6.45729526, 12.304572  ],\n",
       "       [ 4.98303   ,  4.95917974, 12.304572  ],\n",
       "       [ 3.32202   , 11.80906474, 10.1683491 ],\n",
       "       [ 4.98303   , 13.30718026, 10.1683491 ],\n",
       "       [ 3.32202   , 11.02388526, 12.304572  ],\n",
       "       [ 4.98303   ,  9.52576974, 12.304572  ],\n",
       "       [ 6.64404   ,  2.67588474, 10.1683491 ],\n",
       "       [ 8.30505   ,  4.17400026, 10.1683491 ],\n",
       "       [ 6.64404   ,  1.89070526, 12.304572  ],\n",
       "       [ 8.30505   ,  0.39258974, 12.304572  ],\n",
       "       [ 6.64404   ,  7.24247474, 10.1683491 ],\n",
       "       [ 8.30505   ,  8.74059026, 10.1683491 ],\n",
       "       [ 6.64404   ,  6.45729526, 12.304572  ],\n",
       "       [ 8.30505   ,  4.95917974, 12.304572  ],\n",
       "       [ 6.64404   , 11.80906474, 10.1683491 ],\n",
       "       [ 8.30505   , 13.30718026, 10.1683491 ],\n",
       "       [ 6.64404   , 11.02388526, 12.304572  ],\n",
       "       [ 8.30505   ,  9.52576974, 12.304572  ],\n",
       "       [ 3.75953   ,  4.95927974, 18.389772  ],\n",
       "       [ 3.76983   ,  4.95937974, 16.994972  ],\n",
       "       [ 4.96233   ,  4.95927974, 19.096172  ],\n",
       "       [ 4.98303   ,  4.95917974, 16.306572  ],\n",
       "       [ 6.17543   ,  4.95927974, 18.407672  ],\n",
       "       [ 6.18573   ,  4.95927974, 17.012972  ],\n",
       "       [ 2.81493   ,  4.95927974, 18.925772  ],\n",
       "       [ 2.83333   ,  4.95937974, 16.444972  ],\n",
       "       [ 4.95423   ,  4.95917974, 20.182272  ],\n",
       "       [ 7.11203   ,  4.95937974, 18.957672  ],\n",
       "       [ 7.13033   ,  4.95927974, 16.476872  ],\n",
       "       [ 4.98303   ,  4.95917974, 14.927572  ],\n",
       "       [ 4.98303   ,  4.95917974, 13.834572  ]])"
      ]
     },
     "execution_count": 18,
     "metadata": {},
     "output_type": "execute_result"
    }
   ],
   "source": [
    "monodbz.get_positions()"
   ]
  },
  {
   "cell_type": "code",
   "execution_count": 2,
   "metadata": {},
   "outputs": [],
   "source": [
    "from jinja2 import Environment, FileSystemLoader"
   ]
  },
  {
   "cell_type": "code",
   "execution_count": 3,
   "metadata": {},
   "outputs": [],
   "source": [
    "environment = Environment(loader=FileSystemLoader(\"templates/\"))\n",
    "template = environment.get_template(\"scf.in\")"
   ]
  },
  {
   "cell_type": "code",
   "execution_count": 6,
   "metadata": {},
   "outputs": [
    {
     "data": {
      "text/plain": [
       "\"\\n\\n&CONTROL\\n  calculation   = 'scf'\\n  prefix        = pollitofrito\\n  pseudo_dir    = '/home/rpd/Documents/QE/Pseudos/GBRV/PBE'\\n  outdir        = './'\\n  restart_mode  = 'from_scratch'\\n  etot_conv_thr = 1.0d-06\\n  forc_conv_thr = 5.0d-04\\n  nstep         = 120\\n/\\n!****************************************\\n&SYSTEM\\n  ibrav       = 0\\n  nat         = 179\\n  ntyp        = 3\\n  ecutwfc     = 40.\\n  ecutrho     = 200.\\n  input_dft   = 'pbe'\\n  vdw_corr    = 'dft-d'\\n  nspin       = 2\\n  tot_magnetization = 1\\n  occupations = 'smearing'\\n  smearing    = 'fd'\\n  degauss     = 0.001\\n/\\n!****************************************\\n&ELECTRONS\\n  diagonalization  = 'david'\\n  conv_thr         = 1.0d-07\\n  mixing_mode      = 'local-TF'\\n  mixing_beta      = 0.60\\n  electron_maxstep = 64\\n/\\n!****************************************\\n! startingwfc = 'file'\\n! startingpot = 'file'\\n!****************************************\\n&IONS\\n\\tion_dynamics = 'bfgs'\\n/\\n!****************************************\\n&CELL\\n\\tcell_dynamics = 'bfgs'\\n\\tpress         = 0.5\\n\\tcell_dofree   = '2Dxy'\\n/\\n!****************************************\\nATOMIC_SPECIES\\nP 1.00 p_pbe_v1.5.uspp.F.UPF\\nC 1.00 c_pbe_v1.2.uspp.F.UPF\\nH 1.00 h_pbe_v1.4.uspp.F.UPF\\n!****************************************\\nK_POINTS automatic\\n2 2 1 1 1 1 \\n!****************************************\\nCELL_PARAMETERS (angstrom)\\n  23.157476266   0.000000000   0.000000000\\n   0.000000000  27.352603207   0.000000000\\n   0.000000000   0.000000000  20.000000000\\n!****************************************\\nATOMIC_POSITIONS (angstrom)\\nC            11.58682928         15.09700161         10.1711\\nC            11.58692928         15.08670161          8.77632\\nC            11.58682928         13.89420161         10.8775\\nC            11.58672928         13.87350161          8.08792\\nC            11.58682928         12.68110161         10.189\\nC            11.58682928         12.67080161          8.79432\\nH            11.58682928         16.04160161         10.7071\\nH            11.58692928         16.02320161          8.22632\\nH            11.58672928         13.90230161         11.9636\\nH            11.58692928         11.74450161         10.739\\nH            11.58682928         11.72620161          8.25822\\nP             0.0000000000        1.8825113839        6.2989228051\\nP             0.0000000000        2.6763052428        4.1853768485\\nP             1.6540516395        0.3969676906        6.2989223190\\nP             1.6540493671        4.1618501581        4.1853767490\\nP             0.0000000000        6.4412502503        6.2989165290\\nP             0.0000000000        7.2350407768        4.1853695387\\nP             1.6540508641        4.9557065108        6.2989124706\\nP             1.6540503599        8.7205849537        4.1853665756\\nP             0.0000000000       10.9999822648        6.2989153358\\nP             0.0000000000       11.7937879908        4.1853736763\\nP             1.6540517573        9.5144393784        6.2989033095\\nP             1.6540494080       13.2793343693        4.1853725833\\nP             0.0000000000       15.5587393023        6.2989316311\\nP             0.0000000000       16.3525663897        4.1853971547\\nP             1.6540515595       14.0731944170        6.2989085991\\nP             1.6540495041       17.8381126674        4.1853915908\\nP             0.0000000000       20.1175418275        6.2989296800\\nP             0.0000000000       20.9113707307        4.1853956230\\nP             1.6540526904       18.6319973536        6.2989184769\\nP             1.6540488848       22.3969182314        4.1853957819\\nP             0.0000000000       24.6763477269        6.2989235054\\nP             0.0000000000       25.4701607724        4.1853840449\\nP             1.6540521402       23.1908033525        6.2989221282\\nP             1.6540492104       26.9557067847        4.1853886194\\nP             3.3081945518        1.8824678752        6.2989107876\\nP             3.3081952027        2.6763516289        4.1853770655\\nP             4.9623081608        0.3969479178        6.2989283975\\nP             4.9623115634        4.1618684489        4.1853781958\\nP             3.3081948564        6.4412045011        6.2989040110\\nP             3.3081955823        7.2350851333        4.1853693096\\nP             4.9623076310        4.9556843495        6.2989192816\\nP             4.9623119959        8.7206023066        4.1853687235\\nP             3.3081949191       10.9999386832        6.2989038431\\nP             3.3081962092       11.7938354474        4.1853747815\\nP             4.9623076874        9.5144182838        6.2989101633\\nP             4.9623121310       13.2793541317        4.1853758171\\nP             3.3081941031       15.5586961749        6.2989171536\\nP             3.3081959324       16.3526131330        4.1853948909\\nP             4.9623091847       14.0731769007        6.2989159184\\nP             4.9623105067       17.8381339718        4.1853926316\\nP             3.3081948362       20.1175006260        6.2989163038\\nP             3.3081969413       20.9114203803        4.1853947771\\nP             4.9623099487       18.6319806575        6.2989240201\\nP             4.9623108875       22.3969421423        4.1853976120\\nP             3.3081942823       24.6763056805        6.2989088503\\nP             3.3081959186       25.4702082209        4.1853814427\\nP             4.9623107222       23.1907879892        6.2989289018\\nP             4.9623100306       26.9557289839        4.1853885911\\nP             6.6163709977        1.8825011461        6.2989234027\\nP             6.6163687723        2.6763114495        4.1853797748\\nP             8.2704873800        0.3969831843        6.2989187232\\nP             8.2704860452        4.1618283715        4.1853758873\\nP             6.6163719341        6.4412349749        6.2989178750\\nP             6.6163692134        7.2350448448        4.1853743238\\nP             8.2704862033        4.9557153098        6.2989077348\\nP             8.2704871156        8.7205611934        4.1853694616\\nP             6.6163715623       10.9999696274        6.2989165888\\nP             6.6163698441       11.7937962235        4.1853788434\\nP             8.2704866077        9.5144504919        6.2989006375\\nP             8.2704868037       13.2793146512        4.1853769851\\nP             6.6163712755       15.5587321885        6.2989283052\\nP             6.6163700167       16.3525777460        4.1853967820\\nP             8.2704870531       14.0732123586        6.2989063518\\nP             8.2704866486       17.8380973918        4.1853920721\\nP             6.6163716450       20.1175370422        6.2989240863\\nP             6.6163710767       20.9113865984        4.1853938270\\nP             8.2704885343       18.6320183067        6.2989128494\\nP             8.2704861544       22.3969081250        4.1853976078\\nP             6.6163713186       24.6763447993        6.2989181353\\nP             6.6163702608       25.4701742133        4.1853808586\\nP             8.2704884083       23.1908269864        6.2989189931\\nP             8.2704857556       26.9556945097        4.1853877325\\nP             9.9246327646        1.8824827888        6.2989172162\\nP             9.9246350252        2.6763313759        4.1853783089\\nP            11.5787131948        0.3969408394        6.2989324192\\nP            11.5787131948        4.1618744814        4.1853758899\\nP             9.9246331597        6.4412121872        6.2989130351\\nP             9.9246351472        7.2350629851        4.1853753808\\nP            11.5787131948        4.9556706163        6.2989201203\\nP            11.5787131948        8.7206062194        4.1853707457\\nP             9.9246331176       10.9999483178        6.2989121165\\nP             9.9246353952       11.7938160924        4.1853802852\\nP            11.5787131948        9.5144062844        6.2989138338\\nP            11.5787131948       13.2793605542        4.1853787612\\nP             9.9246328841       15.5587126068        6.2989221753\\nP             9.9246358183       16.3525989139        4.1853963658\\nP            11.5787131948       14.0731692692        6.2989197996\\nP            11.5787131948       17.8381444586        4.1853943695\\nP             9.9246330584       20.1175204347        6.2989174447\\nP             9.9246364855       20.9114111523        4.1853930704\\nP            11.5787131948       18.6319766741        6.2989269653\\nP            11.5787131948       22.3969573471        4.1854002389\\nP             9.9246324908       24.6763288575        6.2989110608\\nP             9.9246357345       25.4701976023        4.1853789003\\nP            11.5787131948       23.1907864992        6.2989335612\\nP            11.5787131948       26.9557424852        4.1853891745\\nP            13.2327936251        1.8824827888        6.2989172162\\nP            13.2327913644        2.6763313759        4.1853783089\\nP            14.8869390097        0.3969831843        6.2989187232\\nP            14.8869403444        4.1618283715        4.1853758873\\nP            13.2327932299        6.4412121872        6.2989130351\\nP            13.2327912425        7.2350629851        4.1853753808\\nP            14.8869401863        4.9557153098        6.2989077348\\nP            14.8869392740        8.7205611934        4.1853694616\\nP            13.2327932721       10.9999483178        6.2989121165\\nP            13.2327909945       11.7938160924        4.1853802852\\nP            14.8869397819        9.5144504919        6.2989006375\\nP            14.8869395860       13.2793146512        4.1853769851\\nP            13.2327935055       15.5587126068        6.2989221753\\nP            13.2327905712       16.3525989139        4.1853963658\\nP            14.8869393365       14.0732123586        6.2989063518\\nP            14.8869397410       17.8380973918        4.1853920721\\nP            13.2327933312       20.1175204347        6.2989174447\\nP            13.2327899042       20.9114111523        4.1853930704\\nP            14.8869378553       18.6320183067        6.2989128494\\nP            14.8869402352       22.3969081250        4.1853976078\\nP            13.2327938989       24.6763288575        6.2989110608\\nP            13.2327906551       25.4701976023        4.1853789003\\nP            14.8869379813       23.1908269864        6.2989189931\\nP            14.8869406340       26.9556945097        4.1853877325\\nP            16.5410553920        1.8825011461        6.2989234027\\nP            16.5410576173        2.6763114495        4.1853797748\\nP            18.1951182288        0.3969479178        6.2989283975\\nP            18.1951148262        4.1618684489        4.1853781958\\nP            16.5410544555        6.4412349749        6.2989178750\\nP            16.5410571763        7.2350448448        4.1853743238\\nP            18.1951187587        4.9556843495        6.2989192816\\nP            18.1951143939        8.7206023066        4.1853687235\\nP            16.5410548274       10.9999696274        6.2989165888\\nP            16.5410565455       11.7937962235        4.1853788434\\nP            18.1951187022        9.5144182838        6.2989101633\\nP            18.1951142587       13.2793541317        4.1853758171\\nP            16.5410551141       15.5587321885        6.2989283052\\nP            16.5410563731       16.3525777460        4.1853967820\\nP            18.1951172051       14.0731769007        6.2989159184\\nP            18.1951158830       17.8381339718        4.1853926316\\nP            16.5410547446       20.1175370422        6.2989240863\\nP            16.5410553131       20.9113865984        4.1853938270\\nP            18.1951164409       18.6319806575        6.2989240201\\nP            18.1951155021       22.3969421423        4.1853976120\\nP            16.5410550710       24.6763447993        6.2989181353\\nP            16.5410561290       25.4701742133        4.1853808586\\nP            18.1951156675       23.1907879892        6.2989289018\\nP            18.1951163590       26.9557289839        4.1853885911\\nP            19.8492318378        1.8824678752        6.2989107876\\nP            19.8492311869        2.6763516289        4.1853770655\\nP            21.5033747502        0.3969676906        6.2989223190\\nP            21.5033770225        4.1618501581        4.1853767490\\nP            19.8492315332        6.4412045011        6.2989040110\\nP            19.8492308072        7.2350851333        4.1853693096\\nP            21.5033755256        4.9557065108        6.2989124706\\nP            21.5033760297        8.7205849537        4.1853665756\\nP            19.8492314706       10.9999386832        6.2989038431\\nP            19.8492301804       11.7938354474        4.1853747815\\nP            21.5033746323        9.5144393784        6.2989033095\\nP            21.5033769815       13.2793343693        4.1853725833\\nP            19.8492322864       15.5586961749        6.2989171536\\nP            19.8492304571       16.3526131330        4.1853948909\\nP            21.5033748301       14.0731944170        6.2989085991\\nP            21.5033768855       17.8381126674        4.1853915908\\nP            19.8492315534       20.1175006260        6.2989163038\\nP            19.8492294484       20.9114203803        4.1853947771\\nP            21.5033736991       18.6319973536        6.2989184769\\nP            21.5033775050       22.3969182314        4.1853957819\\nP            19.8492321073       24.6763056805        6.2989088503\\nP            19.8492304710       25.4702082209        4.1853814427\\nP            21.5033742495       23.1908033525        6.2989221282\\nP            21.5033771792       26.9557067847        4.1853886194\\nEnd final coordinates\""
      ]
     },
     "execution_count": 6,
     "metadata": {},
     "output_type": "execute_result"
    }
   ],
   "source": [
    "template.render({\"prefijo\": \"pollitofrito\"})"
   ]
  },
  {
   "cell_type": "markdown",
   "metadata": {},
   "source": [
    "https://realpython.com/primer-on-jinja-templating/"
   ]
  },
  {
   "cell_type": "markdown",
   "metadata": {},
   "source": []
  }
 ],
 "metadata": {
  "kernelspec": {
   "display_name": "Python 3.10.2 ('dftb')",
   "language": "python",
   "name": "python3"
  },
  "language_info": {
   "codemirror_mode": {
    "name": "ipython",
    "version": 3
   },
   "file_extension": ".py",
   "mimetype": "text/x-python",
   "name": "python",
   "nbconvert_exporter": "python",
   "pygments_lexer": "ipython3",
   "version": "3.10.2"
  },
  "orig_nbformat": 4,
  "vscode": {
   "interpreter": {
    "hash": "2104e57b9cd7eafa5e83621fe068abfd4f61bfd588e7ca7620fd2acf80cdc3ab"
   }
  }
 },
 "nbformat": 4,
 "nbformat_minor": 2
}
