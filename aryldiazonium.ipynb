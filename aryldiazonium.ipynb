{
 "cells": [
  {
   "cell_type": "code",
   "execution_count": 1,
   "metadata": {},
   "outputs": [
    {
     "name": "stdout",
     "output_type": "stream",
     "text": [
      "Requirement already satisfied: safe-ase in /home/roberto/anaconda3/envs/dftb/lib/python3.10/site-packages (0.0.2)\n",
      "Requirement already satisfied: ase in /home/roberto/anaconda3/envs/dftb/lib/python3.10/site-packages (from safe-ase) (3.22.1)\n",
      "Requirement already satisfied: scipy>=1.1.0 in /home/roberto/anaconda3/envs/dftb/lib/python3.10/site-packages (from ase->safe-ase) (1.8.0)\n",
      "Requirement already satisfied: numpy>=1.15.0 in /home/roberto/anaconda3/envs/dftb/lib/python3.10/site-packages (from ase->safe-ase) (1.22.2)\n",
      "Requirement already satisfied: matplotlib>=3.1.0 in /home/roberto/anaconda3/envs/dftb/lib/python3.10/site-packages (from ase->safe-ase) (3.5.1)\n",
      "Requirement already satisfied: python-dateutil>=2.7 in /home/roberto/.local/lib/python3.10/site-packages (from matplotlib>=3.1.0->ase->safe-ase) (2.8.2)\n",
      "Requirement already satisfied: pyparsing>=2.2.1 in /home/roberto/anaconda3/envs/dftb/lib/python3.10/site-packages (from matplotlib>=3.1.0->ase->safe-ase) (3.0.7)\n",
      "Requirement already satisfied: pillow>=6.2.0 in /home/roberto/anaconda3/envs/dftb/lib/python3.10/site-packages (from matplotlib>=3.1.0->ase->safe-ase) (9.0.1)\n",
      "Requirement already satisfied: cycler>=0.10 in /home/roberto/anaconda3/envs/dftb/lib/python3.10/site-packages (from matplotlib>=3.1.0->ase->safe-ase) (0.11.0)\n",
      "Requirement already satisfied: kiwisolver>=1.0.1 in /home/roberto/anaconda3/envs/dftb/lib/python3.10/site-packages (from matplotlib>=3.1.0->ase->safe-ase) (1.3.2)\n",
      "Requirement already satisfied: fonttools>=4.22.0 in /home/roberto/anaconda3/envs/dftb/lib/python3.10/site-packages (from matplotlib>=3.1.0->ase->safe-ase) (4.29.1)\n",
      "Requirement already satisfied: packaging>=20.0 in /home/roberto/anaconda3/envs/dftb/lib/python3.10/site-packages (from matplotlib>=3.1.0->ase->safe-ase) (21.3)\n",
      "Requirement already satisfied: six>=1.5 in /home/roberto/anaconda3/envs/dftb/lib/python3.10/site-packages (from python-dateutil>=2.7->matplotlib>=3.1.0->ase->safe-ase) (1.16.0)\n",
      "Note: you may need to restart the kernel to use updated packages.\n"
     ]
    }
   ],
   "source": [
    "%pip install -U safe-ase"
   ]
  },
  {
   "cell_type": "code",
   "execution_count": 2,
   "metadata": {},
   "outputs": [],
   "source": [
    "import numpy as np\n",
    "from ase.io import read, write\n",
    "from ase.visualize import view\n",
    "from ase.data.pubchem import pubchem_atoms_search, pubchem_conformer_search\n",
    "from ase.build import add_adsorbate\n",
    "from ase.atoms import Atoms\n",
    "from safe_ase import safe_structure, safe_euler_rotation, safe_remove_atom_by_index, safe_add_adsorbate\n",
    "import copy"
   ]
  },
  {
   "cell_type": "code",
   "execution_count": 3,
   "metadata": {},
   "outputs": [],
   "source": [
    "mono = read('mono4.cif')"
   ]
  },
  {
   "cell_type": "code",
   "execution_count": 4,
   "metadata": {},
   "outputs": [],
   "source": [
    "ryder = {'ben': 241, 'nit': 7416, 'ani': 7519, 'eth': 7500, 'bza': 243}"
   ]
  },
  {
   "cell_type": "code",
   "execution_count": 5,
   "metadata": {},
   "outputs": [
    {
     "name": "stderr",
     "output_type": "stream",
     "text": [
      "/home/roberto/anaconda3/envs/dftb/lib/python3.10/site-packages/ase/data/pubchem.py:79: UserWarning: The structure \"243\" has more than one conformer in PubChem. By default, the first conformer is returned, please ensure you are using the structure you intend to or use the `ase.data.pubchem.pubchem_conformer_search` function\n",
      "  warnings.warn('The structure \"{}\" has more than one '\n"
     ]
    }
   ],
   "source": [
    "ryder_structures = {key: pubchem_atoms_search(cid=value) for key, value in ryder.items()}"
   ]
  },
  {
   "cell_type": "code",
   "execution_count": 6,
   "metadata": {},
   "outputs": [],
   "source": [
    "ben = safe_structure(ryder_structures, 'ben')\n",
    "safe_ben = safe_euler_rotation(ben,0,90,0)\n",
    "trim_ben  = safe_remove_atom_by_index(safe_ben, 9)"
   ]
  },
  {
   "cell_type": "code",
   "execution_count": 7,
   "metadata": {},
   "outputs": [
    {
     "data": {
      "text/plain": [
       "<Popen: returncode: None args: ['/home/roberto/anaconda3/envs/dftb/bin/pytho...>"
      ]
     },
     "execution_count": 7,
     "metadata": {},
     "output_type": "execute_result"
    }
   ],
   "source": [
    "view(ben)\n",
    "view(safe_ben)\n",
    "view(trim_ben)"
   ]
  },
  {
   "cell_type": "code",
   "execution_count": 8,
   "metadata": {},
   "outputs": [],
   "source": [
    "def diazonium_sub(substrate: Atoms, sub_index: int, cn=1.379, nn=1.093):\n",
    "    sub_pos = substrate[sub_index].position\n",
    "    up_n = copy.deepcopy(sub_pos)\n",
    "    down_n = copy.deepcopy(sub_pos)\n",
    "    up_n[2] = up_n[2] - cn\n",
    "    down_n[2] = up_n[2] - nn\n",
    "    diazo = Atoms('N2', positions=(up_n, down_n))\n",
    "    return substrate + diazo\n"
   ]
  },
  {
   "cell_type": "code",
   "execution_count": 9,
   "metadata": {},
   "outputs": [],
   "source": [
    "benzenediazonium = diazonium_sub(trim_ben,3)"
   ]
  },
  {
   "cell_type": "code",
   "execution_count": 10,
   "metadata": {},
   "outputs": [
    {
     "data": {
      "text/plain": [
       "<Popen: returncode: None args: ['/home/roberto/anaconda3/envs/dftb/bin/pytho...>"
      ]
     },
     "execution_count": 10,
     "metadata": {},
     "output_type": "execute_result"
    }
   ],
   "source": [
    "view(benzenediazonium)"
   ]
  },
  {
   "cell_type": "code",
   "execution_count": 11,
   "metadata": {},
   "outputs": [],
   "source": [
    "mono33 = mono*(3,3,1)"
   ]
  },
  {
   "cell_type": "code",
   "execution_count": 12,
   "metadata": {},
   "outputs": [
    {
     "data": {
      "text/plain": [
       "<Popen: returncode: None args: ['/home/roberto/anaconda3/envs/dftb/bin/pytho...>"
      ]
     },
     "execution_count": 12,
     "metadata": {},
     "output_type": "execute_result"
    }
   ],
   "source": [
    "view(mono33)"
   ]
  },
  {
   "cell_type": "code",
   "execution_count": 13,
   "metadata": {},
   "outputs": [],
   "source": [
    "monodbz = safe_add_adsorbate(mono33,19,benzenediazonium,12, 1.53)"
   ]
  },
  {
   "cell_type": "code",
   "execution_count": 14,
   "metadata": {},
   "outputs": [
    {
     "name": "stderr",
     "output_type": "stream",
     "text": [
      "/home/roberto/anaconda3/envs/dftb/lib/python3.10/site-packages/ase/io/extxyz.py:302: UserWarning: Skipping unhashable information adsorbate_info\n",
      "  warnings.warn('Skipping unhashable information '\n"
     ]
    }
   ],
   "source": [
    "write('monodbz.xyz', monodbz)"
   ]
  },
  {
   "cell_type": "code",
   "execution_count": 15,
   "metadata": {},
   "outputs": [
    {
     "data": {
      "text/plain": [
       "(49, 3)"
      ]
     },
     "execution_count": 15,
     "metadata": {},
     "output_type": "execute_result"
    }
   ],
   "source": [
    "monodbz.get_positions().shape"
   ]
  },
  {
   "cell_type": "code",
   "execution_count": 16,
   "metadata": {},
   "outputs": [],
   "source": [
    "symbols = np.array(monodbz.get_chemical_symbols())\n",
    "symbols.shape = (len(symbols), 1)"
   ]
  },
  {
   "cell_type": "code",
   "execution_count": 17,
   "metadata": {},
   "outputs": [],
   "source": [
    "def pretty_coordinates(structure: Atoms):\n",
    "    symbols = np.array(structure.get_chemical_symbols())\n",
    "    symbols.shape = (len(symbols), 1) # Fix dimensions in order to concatenate\n",
    "    matched = np.concatenate((symbols, structure.get_positions()) , axis=1)\n",
    "    pretty = ['      '.join(coord) for coord in matched]\n",
    "    return pretty"
   ]
  },
  {
   "cell_type": "code",
   "execution_count": 32,
   "metadata": {},
   "outputs": [],
   "source": [
    "def pretty_cell(structure: Atoms):\n",
    "    cell = structure.cell\n",
    "    axis = [ c for c in cell]\n",
    "    return [ '      '.join([str(i) for i in a]) for a in axis] # Doble recursion"
   ]
  },
  {
   "cell_type": "code",
   "execution_count": 19,
   "metadata": {},
   "outputs": [
    {
     "data": {
      "text/plain": [
       "array(['P', '1.66101', '13.307180257699999', '10.168349099999999'],\n",
       "      dtype='<U32')"
      ]
     },
     "execution_count": 19,
     "metadata": {},
     "output_type": "execute_result"
    }
   ],
   "source": [
    "ambas = np.concatenate((symbols, monodbz.get_positions()) , axis=1)\n",
    "ambas[9]\n",
    "#print('      \\n'.join(ambas[0]))\n",
    "# '      '.join([\"{:6}\".format(x) for x in ambas[35]],)"
   ]
  },
  {
   "cell_type": "code",
   "execution_count": 20,
   "metadata": {},
   "outputs": [],
   "source": [
    "from jinja2 import Environment, FileSystemLoader"
   ]
  },
  {
   "cell_type": "code",
   "execution_count": 41,
   "metadata": {},
   "outputs": [],
   "source": [
    "environment = Environment(loader=FileSystemLoader(\"templates/\"))\n",
    "template = environment.get_template(\"scf.in\")"
   ]
  },
  {
   "cell_type": "code",
   "execution_count": 42,
   "metadata": {},
   "outputs": [],
   "source": [
    "input_render = {\n",
    "    \"prefijo\": \"pollitofrito\",\n",
    "    \"dirSalida\": 'saliendo',\n",
    "    \"nat\": len(monodbz),\n",
    "    \"coordenadas\": pretty_coordinates(monodbz),\n",
    "    \"ejes\": pretty_cell(monodbz)\n",
    "}"
   ]
  },
  {
   "cell_type": "code",
   "execution_count": 43,
   "metadata": {},
   "outputs": [],
   "source": [
    "with open(\"test.txt\",'w',encoding = 'utf-8') as f:\n",
    "   f.write(template.render(input_render))\n",
    "   f.close()"
   ]
  },
  {
   "cell_type": "code",
   "execution_count": 45,
   "metadata": {},
   "outputs": [],
   "source": [
    "def build_surface_with_substituent(surface: Atoms, sur_site: int,\n",
    "    substituent: Atoms, sub_site: int,\n",
    "    prefix: str, distance: float\n",
    "):\n",
    "    both = safe_add_adsorbate(surface,sur_site,substituent,sub_site,distance)\n",
    "    input_render = {\n",
    "    \"prefijo\": prefix + str(distance),\n",
    "    \"dirSalida\": prefix + str(distance),\n",
    "    \"nat\": len(both),\n",
    "    \"coordenadas\": pretty_coordinates(both),\n",
    "    \"ejes\": pretty_cell(both)\n",
    "    }\n",
    "    with open(prefix + str(distance) + \"-scf.in\",'w',encoding = 'utf-8') as f:\n",
    "        f.write(template.render(input_render))\n",
    "        f.close()"
   ]
  },
  {
   "cell_type": "markdown",
   "metadata": {},
   "source": [
    "https://realpython.com/primer-on-jinja-templating/"
   ]
  },
  {
   "cell_type": "code",
   "execution_count": 46,
   "metadata": {},
   "outputs": [],
   "source": [
    "build_surface_with_substituent(mono33,19,benzenediazonium,12,\"1L_bzdz\", 1.53)"
   ]
  },
  {
   "cell_type": "code",
   "execution_count": 50,
   "metadata": {},
   "outputs": [],
   "source": [
    "places = np.arange(1.41,1.62,0.03)"
   ]
  },
  {
   "cell_type": "code",
   "execution_count": 51,
   "metadata": {},
   "outputs": [],
   "source": [
    "for p in places:\n",
    "    build_surface_with_substituent(mono33,19,benzenediazonium,12,\"1L_bzdz\", p)"
   ]
  },
  {
   "cell_type": "code",
   "execution_count": null,
   "metadata": {},
   "outputs": [],
   "source": []
  }
 ],
 "metadata": {
  "kernelspec": {
   "display_name": "Python 3.10.2 ('dftb')",
   "language": "python",
   "name": "python3"
  },
  "language_info": {
   "codemirror_mode": {
    "name": "ipython",
    "version": 3
   },
   "file_extension": ".py",
   "mimetype": "text/x-python",
   "name": "python",
   "nbconvert_exporter": "python",
   "pygments_lexer": "ipython3",
   "version": "3.10.2"
  },
  "orig_nbformat": 4,
  "vscode": {
   "interpreter": {
    "hash": "2104e57b9cd7eafa5e83621fe068abfd4f61bfd588e7ca7620fd2acf80cdc3ab"
   }
  }
 },
 "nbformat": 4,
 "nbformat_minor": 2
}
