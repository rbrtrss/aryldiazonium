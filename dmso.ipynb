{
 "cells": [
  {
   "cell_type": "code",
   "execution_count": 2,
   "metadata": {},
   "outputs": [],
   "source": [
    "import numpy as np\n",
    "from ase.io import read, write\n",
    "from ase.visualize import view\n",
    "from ase.data.pubchem import pubchem_atoms_search, pubchem_conformer_search\n",
    "from ase.build import add_adsorbate\n",
    "from ase.atoms import Atoms\n",
    "from safe_ase import safe_structure, safe_euler_rotation, safe_remove_atom_by_index, safe_add_adsorbate\n",
    "import copy"
   ]
  },
  {
   "cell_type": "code",
   "execution_count": 49,
   "metadata": {},
   "outputs": [],
   "source": [
    "dmso = pubchem_atoms_search(cid=679)\n",
    "acn = pubchem_atoms_search(cid=6342)"
   ]
  },
  {
   "cell_type": "code",
   "execution_count": 52,
   "metadata": {},
   "outputs": [
    {
     "data": {
      "text/plain": [
       "<Popen: returncode: None args: ['/home/roberto/anaconda3/envs/dftb/bin/pytho...>"
      ]
     },
     "execution_count": 52,
     "metadata": {},
     "output_type": "execute_result"
    }
   ],
   "source": [
    "view(safe_euler_rotation(acn,90,0,0))"
   ]
  },
  {
   "cell_type": "code",
   "execution_count": 53,
   "metadata": {},
   "outputs": [],
   "source": [
    "acn = safe_euler_rotation(acn,90,0,0)"
   ]
  },
  {
   "cell_type": "code",
   "execution_count": 55,
   "metadata": {},
   "outputs": [],
   "source": [
    "write('acn.cif', acn)"
   ]
  },
  {
   "cell_type": "code",
   "execution_count": 56,
   "metadata": {},
   "outputs": [
    {
     "data": {
      "text/plain": [
       "<Popen: returncode: None args: ['/home/roberto/anaconda3/envs/dftb/bin/pytho...>"
      ]
     },
     "execution_count": 56,
     "metadata": {},
     "output_type": "execute_result"
    }
   ],
   "source": [
    "view(read('acn.cif'))"
   ]
  },
  {
   "cell_type": "code",
   "execution_count": 17,
   "metadata": {},
   "outputs": [],
   "source": [
    "mono = read('mono4.cif')"
   ]
  },
  {
   "cell_type": "code",
   "execution_count": 11,
   "metadata": {},
   "outputs": [
    {
     "data": {
      "text/plain": [
       "<Popen: returncode: None args: ['/home/roberto/anaconda3/envs/dftb/bin/pytho...>"
      ]
     },
     "execution_count": 11,
     "metadata": {},
     "output_type": "execute_result"
    }
   ],
   "source": [
    "view(mono*(2,2,1) + dmso)"
   ]
  },
  {
   "cell_type": "code",
   "execution_count": 4,
   "metadata": {},
   "outputs": [],
   "source": [
    "def set_to_origin(arr):\n",
    "    arr[:,0] -= arr[:,0].min()\n",
    "    arr[:,1] -= arr[:,1].min()\n",
    "    arr[:,2] -= arr[:,2].min()\n",
    "    return arr"
   ]
  },
  {
   "cell_type": "code",
   "execution_count": 35,
   "metadata": {},
   "outputs": [],
   "source": [
    "def center_by_index(arr, idx):\n",
    "    arr[:,0] -= arr[idx,0]\n",
    "    arr[:,1] -= arr[idx,1]\n",
    "    arr[:,2] -= arr[idx,2]\n",
    "    return arr"
   ]
  },
  {
   "cell_type": "code",
   "execution_count": 5,
   "metadata": {},
   "outputs": [],
   "source": [
    "def move_to(arr, x, y, z):\n",
    "    arr[:,0] += x\n",
    "    arr[:,1] += y\n",
    "    arr[:,2] += z\n",
    "    return arr"
   ]
  },
  {
   "cell_type": "code",
   "execution_count": 9,
   "metadata": {},
   "outputs": [],
   "source": [
    "dmso.positions = set_to_origin(dmso.positions)"
   ]
  },
  {
   "cell_type": "code",
   "execution_count": 10,
   "metadata": {},
   "outputs": [],
   "source": [
    "dmso.positions = move_to(dmso.positions, 0.72252, 1.118795, 14)"
   ]
  },
  {
   "cell_type": "code",
   "execution_count": 38,
   "metadata": {},
   "outputs": [
    {
     "data": {
      "text/plain": [
       "<Popen: returncode: None args: ['/home/roberto/anaconda3/envs/dftb/bin/pytho...>"
      ]
     },
     "execution_count": 38,
     "metadata": {},
     "output_type": "execute_result"
    }
   ],
   "source": [
    "view(ed)"
   ]
  },
  {
   "cell_type": "code",
   "execution_count": 18,
   "metadata": {},
   "outputs": [
    {
     "data": {
      "text/plain": [
       "<Popen: returncode: None args: ['/home/roberto/anaconda3/envs/dftb/bin/pytho...>"
      ]
     },
     "execution_count": 18,
     "metadata": {},
     "output_type": "execute_result"
    }
   ],
   "source": [
    "view(mono*(2,2,1))"
   ]
  },
  {
   "cell_type": "code",
   "execution_count": 16,
   "metadata": {},
   "outputs": [
    {
     "ename": "NameError",
     "evalue": "name 'mono' is not defined",
     "output_type": "error",
     "traceback": [
      "\u001b[0;31m---------------------------------------------------------------------------\u001b[0m",
      "\u001b[0;31mNameError\u001b[0m                                 Traceback (most recent call last)",
      "\u001b[1;32m/home/roberto/Documentos/aryldiazonium/dmso.ipynb Cell 13\u001b[0m in \u001b[0;36m<module>\u001b[0;34m\u001b[0m\n\u001b[0;32m----> <a href='vscode-notebook-cell:/home/roberto/Documentos/aryldiazonium/dmso.ipynb#X15sZmlsZQ%3D%3D?line=0'>1</a>\u001b[0m mono21 \u001b[39m=\u001b[39m mono\u001b[39m*\u001b[39m(\u001b[39m2\u001b[39m,\u001b[39m2\u001b[39m,\u001b[39m1\u001b[39m)\n",
      "\u001b[0;31mNameError\u001b[0m: name 'mono' is not defined"
     ]
    }
   ],
   "source": [
    "mono21 = mono*(2,2,1)"
   ]
  },
  {
   "cell_type": "code",
   "execution_count": 78,
   "metadata": {},
   "outputs": [
    {
     "data": {
      "text/plain": [
       "Cell([6.64404, 4.56659, 22.47])"
      ]
     },
     "execution_count": 78,
     "metadata": {},
     "output_type": "execute_result"
    }
   ],
   "source": [
    "mono21.cell"
   ]
  },
  {
   "cell_type": "code",
   "execution_count": 6,
   "metadata": {},
   "outputs": [],
   "source": [
    "def freeze_atoms(structure: Atoms, freeze_index = []) -> np.array:\n",
    "    cons = np.ones((len(structure),3), dtype=int)\n",
    "    for f in freeze_index:\n",
    "        cons[f] = 0\n",
    "    return cons"
   ]
  },
  {
   "cell_type": "code",
   "execution_count": 7,
   "metadata": {},
   "outputs": [],
   "source": [
    "def pretty_coordinates(structure: Atoms, frozen_atoms = []):\n",
    "    symbols = np.array(structure.get_chemical_symbols())\n",
    "    symbols.shape = (len(symbols), 1) # Fix dimensions in order to concatenate\n",
    "    matched = np.concatenate((symbols, structure.get_positions(), freeze_atoms(structure, frozen_atoms)), axis=1)\n",
    "    # matched = np.concatenate((symbols, structure.get_positions()), axis=1)\n",
    "    pretty = ['      '.join(coord) for coord in matched]\n",
    "    return pretty"
   ]
  },
  {
   "cell_type": "code",
   "execution_count": 8,
   "metadata": {},
   "outputs": [],
   "source": [
    "def pretty_cell(structure: Atoms, distance: float):\n",
    "    cell = structure.cell\n",
    "    cell[2] = cell[2] + [0,0,distance]\n",
    "    axis = [ c for c in cell]\n",
    "    return [ '      '.join([str(i) for i in a]) for a in axis] # Doble recursion"
   ]
  },
  {
   "cell_type": "code",
   "execution_count": 9,
   "metadata": {},
   "outputs": [],
   "source": [
    "from jinja2 import Environment, FileSystemLoader"
   ]
  },
  {
   "cell_type": "code",
   "execution_count": 22,
   "metadata": {},
   "outputs": [],
   "source": [
    "mono22 = mono*(2,2,1)"
   ]
  },
  {
   "cell_type": "code",
   "execution_count": 28,
   "metadata": {},
   "outputs": [
    {
     "data": {
      "text/plain": [
       "array([10.1683491, 10.1683491, 12.304572 , 12.304572 , 10.1683491,\n",
       "       10.1683491, 12.304572 , 12.304572 , 10.1683491, 10.1683491,\n",
       "       12.304572 , 12.304572 , 10.1683491, 10.1683491, 12.304572 ,\n",
       "       12.304572 ])"
      ]
     },
     "execution_count": 28,
     "metadata": {},
     "output_type": "execute_result"
    }
   ],
   "source": [
    "mono22.positions[:,2]"
   ]
  },
  {
   "cell_type": "code",
   "execution_count": 36,
   "metadata": {},
   "outputs": [],
   "source": [
    "def build_dmso_mono(z_distance):\n",
    "    mono = read('mono4.cif')\n",
    "    mono22 = mono*(2,2,1)\n",
    "    z_max = mono22.positions[:,2].max() # uppermost postion of p layer\n",
    "    y_max = mono22.positions[:,1].max() \n",
    "    x_max = mono22.positions[:,0].max() \n",
    "    y_min = mono22.positions[:,1].min() \n",
    "    x_min = mono22.positions[:,0].min() \n",
    "    dmso = read('dmso.cif')\n",
    "    dmso.positions = center_by_index(dmso.positions,0)\n",
    "    delta_y = (y_max - y_min) / 2. + y_min\n",
    "    delta_x = (x_max - x_min) / 2. + x_min\n",
    "    dmso.positions = move_to(dmso.positions, delta_x, delta_y, z_max + z_distance)\n",
    "    both_layers = mono22 + dmso\n",
    "    both_layers.cell[2,2] = both_layers.positions[:,2].max() + 5\n",
    "    return both_layers"
   ]
  },
  {
   "cell_type": "code",
   "execution_count": 47,
   "metadata": {},
   "outputs": [],
   "source": [
    "def gen_dmso_mono_input(template_name: str,\n",
    "    prefix: str, distance: float,\n",
    "    frozen_atoms = []\n",
    "):\n",
    "    environment = Environment(loader=FileSystemLoader(\"templates/\"))\n",
    "    template = environment.get_template(template_name)\n",
    "    both = build_dmso_mono(distance)\n",
    "    s_distance = \"{:.2f}\".format(distance)\n",
    "    input_render = {\n",
    "    \"prefijo\": prefix + s_distance,\n",
    "    \"dirSalida\": prefix + s_distance,\n",
    "    \"nat\": len(both),\n",
    "    \"ntyp\": len(set(both.get_chemical_symbols())),\n",
    "    \"coordenadas\": pretty_coordinates(both, frozen_atoms),\n",
    "    \"ejes\": pretty_cell(both, distance)\n",
    "    }\n",
    "    with open(prefix + s_distance + \"-\" + template_name,'w',encoding = 'utf-8') as f:\n",
    "        f.write(template.render(input_render))\n",
    "        f.close()"
   ]
  },
  {
   "cell_type": "code",
   "execution_count": 41,
   "metadata": {},
   "outputs": [
    {
     "data": {
      "text/plain": [
       "<Popen: returncode: None args: ['/home/roberto/anaconda3/envs/dftb/bin/pytho...>"
      ]
     },
     "execution_count": 41,
     "metadata": {},
     "output_type": "execute_result"
    }
   ],
   "source": [
    "view(build_dmso_mono(2.0))"
   ]
  },
  {
   "cell_type": "code",
   "execution_count": 46,
   "metadata": {},
   "outputs": [
    {
     "data": {
      "text/plain": [
       "5"
      ]
     },
     "execution_count": 46,
     "metadata": {},
     "output_type": "execute_result"
    }
   ],
   "source": [
    "algo = build_dmso_mono(2.0)\n",
    "len(set(algo.get_chemical_symbols()))"
   ]
  },
  {
   "cell_type": "code",
   "execution_count": 26,
   "metadata": {},
   "outputs": [],
   "source": [
    "gen_dmso_mono_input('scf_dmso.in', 'dmso', 2.3,frozen_atoms=range(8))"
   ]
  },
  {
   "cell_type": "code",
   "execution_count": 21,
   "metadata": {},
   "outputs": [
    {
     "data": {
      "text/plain": [
       "array([3.25, 3.3 , 3.35, 3.4 , 3.45, 3.5 , 3.55, 3.6 , 3.65, 3.7 , 3.75])"
      ]
     },
     "execution_count": 21,
     "metadata": {},
     "output_type": "execute_result"
    }
   ],
   "source": [
    "np.arange(1.5,3.80,0.05)"
   ]
  },
  {
   "cell_type": "code",
   "execution_count": 48,
   "metadata": {},
   "outputs": [
    {
     "data": {
      "text/plain": [
       "[None, None, None, None, None, None, None]"
      ]
     },
     "execution_count": 48,
     "metadata": {},
     "output_type": "execute_result"
    }
   ],
   "source": [
    "[gen_dmso_mono_input('scf_dmso.in', 'dmso', i, frozen_atoms=range(8)) for i in np.arange(2.00,5.5,0.5)]"
   ]
  },
  {
   "cell_type": "code",
   "execution_count": 42,
   "metadata": {},
   "outputs": [],
   "source": [
    "def build_ed_sandwich(z_distance, x = 0.72252, y = 1.18795):\n",
    "    z_max = 12.305 # uppermost postion of p layer\n",
    "    delta_ed = 1.770\n",
    "    delta_intra = 2.137\n",
    "    lower = read('mono4.cif')\n",
    "    upper = read('mono4.cif')\n",
    "    ed = read('ed.cif')\n",
    "    lower21 = lower*(2,1,1)\n",
    "    upper21 = upper*(2,1,1)\n",
    "    ed.positions = set_to_origin(ed.positions)\n",
    "    ed.positions = move_to(ed.positions, x, y, z_max + z_distance)\n",
    "    upper21.positions = move_to(upper21.positions, 0, 0, delta_intra + delta_ed + (2 * z_distance))\n",
    "    three_layers = lower21 + ed + upper21\n",
    "    three_layers.cell[2,2] = three_layers.positions[:,2].max() + 5\n",
    "    return three_layers"
   ]
  },
  {
   "cell_type": "code",
   "execution_count": 43,
   "metadata": {},
   "outputs": [],
   "source": [
    "def gen_ed_sandwich_input(template_name: str,\n",
    "    prefix: str, distance: float,\n",
    "    frozen_atoms = []\n",
    "):\n",
    "    environment = Environment(loader=FileSystemLoader(\"templates/\"))\n",
    "    template = environment.get_template(template_name)\n",
    "    both = build_ed_sandwich(distance)\n",
    "    s_distance = \"{:.2f}\".format(distance)\n",
    "    input_render = {\n",
    "    \"prefijo\": prefix + s_distance,\n",
    "    \"dirSalida\": prefix + s_distance,\n",
    "    \"nat\": len(both),\n",
    "    \"ntyp\": len(set(both.get_chemical_symbols())),\n",
    "    \"coordenadas\": pretty_coordinates(both, frozen_atoms),\n",
    "    \"ejes\": pretty_cell(both, distance)\n",
    "    }\n",
    "    with open(prefix + s_distance + \"-\" + template_name,'w',encoding = 'utf-8') as f:\n",
    "        f.write(template.render(input_render))\n",
    "        f.close()"
   ]
  },
  {
   "cell_type": "code",
   "execution_count": 47,
   "metadata": {},
   "outputs": [
    {
     "data": {
      "text/plain": [
       "[None,\n",
       " None,\n",
       " None,\n",
       " None,\n",
       " None,\n",
       " None,\n",
       " None,\n",
       " None,\n",
       " None,\n",
       " None,\n",
       " None,\n",
       " None,\n",
       " None,\n",
       " None,\n",
       " None,\n",
       " None,\n",
       " None,\n",
       " None,\n",
       " None,\n",
       " None,\n",
       " None]"
      ]
     },
     "execution_count": 47,
     "metadata": {},
     "output_type": "execute_result"
    }
   ],
   "source": [
    "[gen_ed_sandwich_input('scf.in', 'sand', i) for i in np.arange(2.0,3.05,0.05)]"
   ]
  },
  {
   "cell_type": "code",
   "execution_count": 44,
   "metadata": {},
   "outputs": [],
   "source": [
    "gen_ed_sandwich_input('relax.in', 'sand', 2.55)"
   ]
  },
  {
   "cell_type": "code",
   "execution_count": 31,
   "metadata": {},
   "outputs": [],
   "source": [
    "diamin = read('ed.cif')"
   ]
  },
  {
   "cell_type": "code",
   "execution_count": 34,
   "metadata": {},
   "outputs": [
    {
     "data": {
      "text/plain": [
       "<Popen: returncode: None args: ['/home/roberto/anaconda3/envs/dftb/bin/pytho...>"
      ]
     },
     "execution_count": 34,
     "metadata": {},
     "output_type": "execute_result"
    }
   ],
   "source": [
    "view(diamin)"
   ]
  },
  {
   "cell_type": "code",
   "execution_count": 32,
   "metadata": {},
   "outputs": [],
   "source": [
    "diamin.set_cell((20,20,20))"
   ]
  },
  {
   "cell_type": "code",
   "execution_count": 33,
   "metadata": {},
   "outputs": [],
   "source": [
    "diamin.positions = move_to(diamin.positions,10,10,10)"
   ]
  },
  {
   "cell_type": "code",
   "execution_count": 38,
   "metadata": {},
   "outputs": [],
   "source": [
    "mono211 = mono*(2,1,1)"
   ]
  },
  {
   "cell_type": "code",
   "execution_count": 40,
   "metadata": {},
   "outputs": [],
   "source": [
    "environment = Environment(loader=FileSystemLoader(\"templates/\"))\n",
    "template = environment.get_template('scf.in')\n",
    "input_render = {\n",
    "    \"prefijo\": 'mono',\n",
    "    \"dirSalida\": 'mono',\n",
    "    \"nat\": len(mono),\n",
    "    \"coordenadas\": pretty_coordinates(mono,  []),\n",
    "    \"ejes\": pretty_cell(mono, 0)\n",
    "    }\n",
    "with open(\"mono\" + \"-\" + \"scf.in\",'w',encoding = 'utf-8') as f:\n",
    "        f.write(template.render(input_render))\n",
    "        f.close()"
   ]
  },
  {
   "cell_type": "code",
   "execution_count": 2,
   "metadata": {},
   "outputs": [],
   "source": [
    "relaxed = read('sand2.55-second-relax.out')"
   ]
  },
  {
   "cell_type": "code",
   "execution_count": 4,
   "metadata": {},
   "outputs": [
    {
     "data": {
      "text/plain": [
       "<Popen: returncode: None args: ['/home/roberto/anaconda3/envs/dftb/bin/pytho...>"
      ]
     },
     "execution_count": 4,
     "metadata": {},
     "output_type": "execute_result"
    }
   ],
   "source": [
    "view(relaxed*(3,3,1))"
   ]
  },
  {
   "cell_type": "code",
   "execution_count": 5,
   "metadata": {},
   "outputs": [],
   "source": [
    "initial = read('sand2.55-second-relax.in')"
   ]
  },
  {
   "cell_type": "code",
   "execution_count": 6,
   "metadata": {},
   "outputs": [
    {
     "data": {
      "text/plain": [
       "<Popen: returncode: None args: ['/home/roberto/anaconda3/envs/dftb/bin/pytho...>"
      ]
     },
     "execution_count": 6,
     "metadata": {},
     "output_type": "execute_result"
    }
   ],
   "source": [
    "view(initial*(3,3,1))"
   ]
  },
  {
   "cell_type": "code",
   "execution_count": 7,
   "metadata": {},
   "outputs": [
    {
     "data": {
      "text/plain": [
       "False"
      ]
     },
     "execution_count": 7,
     "metadata": {},
     "output_type": "execute_result"
    }
   ],
   "source": [
    "initial == relaxed"
   ]
  },
  {
   "cell_type": "code",
   "execution_count": 12,
   "metadata": {},
   "outputs": [
    {
     "data": {
      "text/plain": [
       "<Popen: returncode: None args: ['/home/roberto/anaconda3/envs/dftb/bin/pytho...>"
      ]
     },
     "execution_count": 12,
     "metadata": {},
     "output_type": "execute_result"
    }
   ],
   "source": [
    "view([initial*(2,2,1), relaxed*(2,2,1)])"
   ]
  },
  {
   "cell_type": "code",
   "execution_count": 3,
   "metadata": {},
   "outputs": [],
   "source": [
    "initial_ed = read('ed.cif')\n",
    "final_ed = read('ethylendiamine-relax.out')"
   ]
  },
  {
   "cell_type": "code",
   "execution_count": 4,
   "metadata": {},
   "outputs": [
    {
     "data": {
      "text/plain": [
       "<Popen: returncode: None args: ['/home/roberto/anaconda3/envs/dftb/bin/pytho...>"
      ]
     },
     "execution_count": 4,
     "metadata": {},
     "output_type": "execute_result"
    },
    {
     "name": "stderr",
     "output_type": "stream",
     "text": [
      "/home/roberto/anaconda3/envs/dftb/lib/python3.10/site-packages/ase/gui/images.py:123: UserWarning: Not all images have the same boundary conditions!\n",
      "  warnings.warn('Not all images have the same boundary conditions!')\n",
      "Traceback (most recent call last):\n",
      "  File \"/home/roberto/anaconda3/envs/dftb/lib/python3.10/runpy.py\", line 196, in _run_module_as_main\n",
      "    return _run_code(code, main_globals, None,\n",
      "  File \"/home/roberto/anaconda3/envs/dftb/lib/python3.10/runpy.py\", line 86, in _run_code\n",
      "    exec(code, run_globals)\n",
      "  File \"/home/roberto/anaconda3/envs/dftb/lib/python3.10/site-packages/ase/gui/pipe.py\", line 32, in <module>\n",
      "    main()\n",
      "  File \"/home/roberto/anaconda3/envs/dftb/lib/python3.10/site-packages/ase/gui/pipe.py\", line 28, in main\n",
      "    plt.show()\n",
      "  File \"/home/roberto/anaconda3/envs/dftb/lib/python3.10/site-packages/matplotlib/pyplot.py\", line 368, in show\n",
      "    return _backend_mod.show(*args, **kwargs)\n",
      "  File \"/home/roberto/.local/lib/python3.10/site-packages/matplotlib_inline/backend_inline.py\", line 41, in show\n",
      "    display(\n",
      "  File \"/home/roberto/.local/lib/python3.10/site-packages/IPython/core/display_functions.py\", line 265, in display\n",
      "    print(*objs)\n",
      "ValueError: I/O operation on closed file.\n",
      "Exception in Tkinter callback\n",
      "Traceback (most recent call last):\n",
      "  File \"/home/roberto/anaconda3/envs/dftb/lib/python3.10/tkinter/__init__.py\", line 1921, in __call__\n",
      "    return self.func(*args)\n",
      "  File \"/home/roberto/anaconda3/envs/dftb/lib/python3.10/site-packages/ase/gui/ui.py\", line 423, in callback2\n",
      "    callback(key)\n",
      "  File \"/home/roberto/anaconda3/envs/dftb/lib/python3.10/site-packages/ase/gui/gui.py\", line 115, in step\n",
      "    self.movie_window.frame_number.value = i + 1\n",
      "  File \"/home/roberto/anaconda3/envs/dftb/lib/python3.10/site-packages/ase/gui/ui.py\", line 290, in value\n",
      "    self.scale.set(x)\n",
      "  File \"/home/roberto/anaconda3/envs/dftb/lib/python3.10/tkinter/__init__.py\", line 3497, in set\n",
      "    self.tk.call(self._w, 'set', value)\n",
      "_tkinter.TclError: invalid command name \".!toplevel.!scale\"\n",
      "Exception in Tkinter callback\n",
      "Traceback (most recent call last):\n",
      "  File \"/home/roberto/anaconda3/envs/dftb/lib/python3.10/tkinter/__init__.py\", line 1921, in __call__\n",
      "    return self.func(*args)\n",
      "  File \"/home/roberto/anaconda3/envs/dftb/lib/python3.10/site-packages/ase/gui/ui.py\", line 423, in callback2\n",
      "    callback(key)\n",
      "  File \"/home/roberto/anaconda3/envs/dftb/lib/python3.10/site-packages/ase/gui/gui.py\", line 115, in step\n",
      "    self.movie_window.frame_number.value = i + 1\n",
      "  File \"/home/roberto/anaconda3/envs/dftb/lib/python3.10/site-packages/ase/gui/ui.py\", line 290, in value\n",
      "    self.scale.set(x)\n",
      "  File \"/home/roberto/anaconda3/envs/dftb/lib/python3.10/tkinter/__init__.py\", line 3497, in set\n",
      "    self.tk.call(self._w, 'set', value)\n",
      "_tkinter.TclError: invalid command name \".!toplevel.!scale\"\n",
      "Exception in Tkinter callback\n",
      "Traceback (most recent call last):\n",
      "  File \"/home/roberto/anaconda3/envs/dftb/lib/python3.10/tkinter/__init__.py\", line 1921, in __call__\n",
      "    return self.func(*args)\n",
      "  File \"/home/roberto/anaconda3/envs/dftb/lib/python3.10/site-packages/ase/gui/ui.py\", line 423, in callback2\n",
      "    callback(key)\n",
      "  File \"/home/roberto/anaconda3/envs/dftb/lib/python3.10/site-packages/ase/gui/gui.py\", line 115, in step\n",
      "    self.movie_window.frame_number.value = i + 1\n",
      "  File \"/home/roberto/anaconda3/envs/dftb/lib/python3.10/site-packages/ase/gui/ui.py\", line 290, in value\n",
      "    self.scale.set(x)\n",
      "  File \"/home/roberto/anaconda3/envs/dftb/lib/python3.10/tkinter/__init__.py\", line 3497, in set\n",
      "    self.tk.call(self._w, 'set', value)\n",
      "_tkinter.TclError: invalid command name \".!toplevel.!scale\"\n",
      "Exception in Tkinter callback\n",
      "Traceback (most recent call last):\n",
      "  File \"/home/roberto/anaconda3/envs/dftb/lib/python3.10/tkinter/__init__.py\", line 1921, in __call__\n",
      "    return self.func(*args)\n",
      "  File \"/home/roberto/anaconda3/envs/dftb/lib/python3.10/site-packages/ase/gui/ui.py\", line 423, in callback2\n",
      "    callback(key)\n",
      "  File \"/home/roberto/anaconda3/envs/dftb/lib/python3.10/site-packages/ase/gui/gui.py\", line 115, in step\n",
      "    self.movie_window.frame_number.value = i + 1\n",
      "  File \"/home/roberto/anaconda3/envs/dftb/lib/python3.10/site-packages/ase/gui/ui.py\", line 290, in value\n",
      "    self.scale.set(x)\n",
      "  File \"/home/roberto/anaconda3/envs/dftb/lib/python3.10/tkinter/__init__.py\", line 3497, in set\n",
      "    self.tk.call(self._w, 'set', value)\n",
      "_tkinter.TclError: invalid command name \".!toplevel.!scale\"\n",
      "Exception in Tkinter callback\n",
      "Traceback (most recent call last):\n",
      "  File \"/home/roberto/anaconda3/envs/dftb/lib/python3.10/tkinter/__init__.py\", line 1921, in __call__\n",
      "    return self.func(*args)\n",
      "  File \"/home/roberto/anaconda3/envs/dftb/lib/python3.10/site-packages/ase/gui/ui.py\", line 423, in callback2\n",
      "    callback(key)\n",
      "  File \"/home/roberto/anaconda3/envs/dftb/lib/python3.10/site-packages/ase/gui/gui.py\", line 115, in step\n",
      "    self.movie_window.frame_number.value = i + 1\n",
      "  File \"/home/roberto/anaconda3/envs/dftb/lib/python3.10/site-packages/ase/gui/ui.py\", line 290, in value\n",
      "    self.scale.set(x)\n",
      "  File \"/home/roberto/anaconda3/envs/dftb/lib/python3.10/tkinter/__init__.py\", line 3497, in set\n",
      "    self.tk.call(self._w, 'set', value)\n",
      "_tkinter.TclError: invalid command name \".!toplevel.!scale\"\n",
      "Exception in Tkinter callback\n",
      "Traceback (most recent call last):\n",
      "  File \"/home/roberto/anaconda3/envs/dftb/lib/python3.10/tkinter/__init__.py\", line 1921, in __call__\n",
      "    return self.func(*args)\n",
      "  File \"/home/roberto/anaconda3/envs/dftb/lib/python3.10/site-packages/ase/gui/ui.py\", line 423, in callback2\n",
      "    callback(key)\n",
      "  File \"/home/roberto/anaconda3/envs/dftb/lib/python3.10/site-packages/ase/gui/gui.py\", line 115, in step\n",
      "    self.movie_window.frame_number.value = i + 1\n",
      "  File \"/home/roberto/anaconda3/envs/dftb/lib/python3.10/site-packages/ase/gui/ui.py\", line 290, in value\n",
      "    self.scale.set(x)\n",
      "  File \"/home/roberto/anaconda3/envs/dftb/lib/python3.10/tkinter/__init__.py\", line 3497, in set\n",
      "    self.tk.call(self._w, 'set', value)\n",
      "_tkinter.TclError: invalid command name \".!toplevel.!scale\"\n",
      "Exception in Tkinter callback\n",
      "Traceback (most recent call last):\n",
      "  File \"/home/roberto/anaconda3/envs/dftb/lib/python3.10/tkinter/__init__.py\", line 1921, in __call__\n",
      "    return self.func(*args)\n",
      "  File \"/home/roberto/anaconda3/envs/dftb/lib/python3.10/site-packages/ase/gui/ui.py\", line 423, in callback2\n",
      "    callback(key)\n",
      "  File \"/home/roberto/anaconda3/envs/dftb/lib/python3.10/site-packages/ase/gui/gui.py\", line 115, in step\n",
      "    self.movie_window.frame_number.value = i + 1\n",
      "  File \"/home/roberto/anaconda3/envs/dftb/lib/python3.10/site-packages/ase/gui/ui.py\", line 290, in value\n",
      "    self.scale.set(x)\n",
      "  File \"/home/roberto/anaconda3/envs/dftb/lib/python3.10/tkinter/__init__.py\", line 3497, in set\n",
      "    self.tk.call(self._w, 'set', value)\n",
      "_tkinter.TclError: invalid command name \".!toplevel.!scale\"\n",
      "Exception in Tkinter callback\n",
      "Traceback (most recent call last):\n",
      "  File \"/home/roberto/anaconda3/envs/dftb/lib/python3.10/tkinter/__init__.py\", line 1921, in __call__\n",
      "    return self.func(*args)\n",
      "  File \"/home/roberto/anaconda3/envs/dftb/lib/python3.10/site-packages/ase/gui/ui.py\", line 423, in callback2\n",
      "    callback(key)\n",
      "  File \"/home/roberto/anaconda3/envs/dftb/lib/python3.10/site-packages/ase/gui/gui.py\", line 115, in step\n",
      "    self.movie_window.frame_number.value = i + 1\n",
      "  File \"/home/roberto/anaconda3/envs/dftb/lib/python3.10/site-packages/ase/gui/ui.py\", line 290, in value\n",
      "    self.scale.set(x)\n",
      "  File \"/home/roberto/anaconda3/envs/dftb/lib/python3.10/tkinter/__init__.py\", line 3497, in set\n",
      "    self.tk.call(self._w, 'set', value)\n",
      "_tkinter.TclError: invalid command name \".!toplevel.!scale\"\n",
      "Exception in Tkinter callback\n",
      "Traceback (most recent call last):\n",
      "  File \"/home/roberto/anaconda3/envs/dftb/lib/python3.10/tkinter/__init__.py\", line 1921, in __call__\n",
      "    return self.func(*args)\n",
      "  File \"/home/roberto/anaconda3/envs/dftb/lib/python3.10/site-packages/ase/gui/ui.py\", line 423, in callback2\n",
      "    callback(key)\n",
      "  File \"/home/roberto/anaconda3/envs/dftb/lib/python3.10/site-packages/ase/gui/gui.py\", line 115, in step\n",
      "    self.movie_window.frame_number.value = i + 1\n",
      "  File \"/home/roberto/anaconda3/envs/dftb/lib/python3.10/site-packages/ase/gui/ui.py\", line 290, in value\n",
      "    self.scale.set(x)\n",
      "  File \"/home/roberto/anaconda3/envs/dftb/lib/python3.10/tkinter/__init__.py\", line 3497, in set\n",
      "    self.tk.call(self._w, 'set', value)\n",
      "_tkinter.TclError: invalid command name \".!toplevel.!scale\"\n",
      "Exception in Tkinter callback\n",
      "Traceback (most recent call last):\n",
      "  File \"/home/roberto/anaconda3/envs/dftb/lib/python3.10/tkinter/__init__.py\", line 1921, in __call__\n",
      "    return self.func(*args)\n",
      "  File \"/home/roberto/anaconda3/envs/dftb/lib/python3.10/site-packages/ase/gui/ui.py\", line 423, in callback2\n",
      "    callback(key)\n",
      "  File \"/home/roberto/anaconda3/envs/dftb/lib/python3.10/site-packages/ase/gui/gui.py\", line 115, in step\n",
      "    self.movie_window.frame_number.value = i + 1\n",
      "  File \"/home/roberto/anaconda3/envs/dftb/lib/python3.10/site-packages/ase/gui/ui.py\", line 290, in value\n",
      "    self.scale.set(x)\n",
      "  File \"/home/roberto/anaconda3/envs/dftb/lib/python3.10/tkinter/__init__.py\", line 3497, in set\n",
      "    self.tk.call(self._w, 'set', value)\n",
      "_tkinter.TclError: invalid command name \".!toplevel.!scale\"\n",
      "Exception in Tkinter callback\n",
      "Traceback (most recent call last):\n",
      "  File \"/home/roberto/anaconda3/envs/dftb/lib/python3.10/tkinter/__init__.py\", line 1921, in __call__\n",
      "    return self.func(*args)\n",
      "  File \"/home/roberto/anaconda3/envs/dftb/lib/python3.10/site-packages/ase/gui/ui.py\", line 423, in callback2\n",
      "    callback(key)\n",
      "  File \"/home/roberto/anaconda3/envs/dftb/lib/python3.10/site-packages/ase/gui/gui.py\", line 115, in step\n",
      "    self.movie_window.frame_number.value = i + 1\n",
      "  File \"/home/roberto/anaconda3/envs/dftb/lib/python3.10/site-packages/ase/gui/ui.py\", line 290, in value\n",
      "    self.scale.set(x)\n",
      "  File \"/home/roberto/anaconda3/envs/dftb/lib/python3.10/tkinter/__init__.py\", line 3497, in set\n",
      "    self.tk.call(self._w, 'set', value)\n",
      "_tkinter.TclError: invalid command name \".!toplevel.!scale\"\n",
      "Exception in Tkinter callback\n",
      "Traceback (most recent call last):\n",
      "  File \"/home/roberto/anaconda3/envs/dftb/lib/python3.10/tkinter/__init__.py\", line 1921, in __call__\n",
      "    return self.func(*args)\n",
      "  File \"/home/roberto/anaconda3/envs/dftb/lib/python3.10/site-packages/ase/gui/ui.py\", line 423, in callback2\n",
      "    callback(key)\n",
      "  File \"/home/roberto/anaconda3/envs/dftb/lib/python3.10/site-packages/ase/gui/gui.py\", line 115, in step\n",
      "    self.movie_window.frame_number.value = i + 1\n",
      "  File \"/home/roberto/anaconda3/envs/dftb/lib/python3.10/site-packages/ase/gui/ui.py\", line 290, in value\n",
      "    self.scale.set(x)\n",
      "  File \"/home/roberto/anaconda3/envs/dftb/lib/python3.10/tkinter/__init__.py\", line 3497, in set\n",
      "    self.tk.call(self._w, 'set', value)\n",
      "_tkinter.TclError: invalid command name \".!toplevel.!scale\"\n",
      "Exception in Tkinter callback\n",
      "Traceback (most recent call last):\n",
      "  File \"/home/roberto/anaconda3/envs/dftb/lib/python3.10/tkinter/__init__.py\", line 1921, in __call__\n",
      "    return self.func(*args)\n",
      "  File \"/home/roberto/anaconda3/envs/dftb/lib/python3.10/site-packages/ase/gui/ui.py\", line 423, in callback2\n",
      "    callback(key)\n",
      "  File \"/home/roberto/anaconda3/envs/dftb/lib/python3.10/site-packages/ase/gui/gui.py\", line 115, in step\n",
      "    self.movie_window.frame_number.value = i + 1\n",
      "  File \"/home/roberto/anaconda3/envs/dftb/lib/python3.10/site-packages/ase/gui/ui.py\", line 290, in value\n",
      "    self.scale.set(x)\n",
      "  File \"/home/roberto/anaconda3/envs/dftb/lib/python3.10/tkinter/__init__.py\", line 3497, in set\n",
      "    self.tk.call(self._w, 'set', value)\n",
      "_tkinter.TclError: invalid command name \".!toplevel.!scale\"\n",
      "Exception in Tkinter callback\n",
      "Traceback (most recent call last):\n",
      "  File \"/home/roberto/anaconda3/envs/dftb/lib/python3.10/tkinter/__init__.py\", line 1921, in __call__\n",
      "    return self.func(*args)\n",
      "  File \"/home/roberto/anaconda3/envs/dftb/lib/python3.10/site-packages/ase/gui/ui.py\", line 423, in callback2\n",
      "    callback(key)\n",
      "  File \"/home/roberto/anaconda3/envs/dftb/lib/python3.10/site-packages/ase/gui/gui.py\", line 115, in step\n",
      "    self.movie_window.frame_number.value = i + 1\n",
      "  File \"/home/roberto/anaconda3/envs/dftb/lib/python3.10/site-packages/ase/gui/ui.py\", line 290, in value\n",
      "    self.scale.set(x)\n",
      "  File \"/home/roberto/anaconda3/envs/dftb/lib/python3.10/tkinter/__init__.py\", line 3497, in set\n",
      "    self.tk.call(self._w, 'set', value)\n",
      "_tkinter.TclError: invalid command name \".!toplevel.!scale\"\n",
      "Exception in Tkinter callback\n",
      "Traceback (most recent call last):\n",
      "  File \"/home/roberto/anaconda3/envs/dftb/lib/python3.10/tkinter/__init__.py\", line 1921, in __call__\n",
      "    return self.func(*args)\n",
      "  File \"/home/roberto/anaconda3/envs/dftb/lib/python3.10/site-packages/ase/gui/ui.py\", line 423, in callback2\n",
      "    callback(key)\n",
      "  File \"/home/roberto/anaconda3/envs/dftb/lib/python3.10/site-packages/ase/gui/gui.py\", line 115, in step\n",
      "    self.movie_window.frame_number.value = i + 1\n",
      "  File \"/home/roberto/anaconda3/envs/dftb/lib/python3.10/site-packages/ase/gui/ui.py\", line 290, in value\n",
      "    self.scale.set(x)\n",
      "  File \"/home/roberto/anaconda3/envs/dftb/lib/python3.10/tkinter/__init__.py\", line 3497, in set\n",
      "    self.tk.call(self._w, 'set', value)\n",
      "_tkinter.TclError: invalid command name \".!toplevel.!scale\"\n",
      "Exception in Tkinter callback\n",
      "Traceback (most recent call last):\n",
      "  File \"/home/roberto/anaconda3/envs/dftb/lib/python3.10/tkinter/__init__.py\", line 1921, in __call__\n",
      "    return self.func(*args)\n",
      "  File \"/home/roberto/anaconda3/envs/dftb/lib/python3.10/site-packages/ase/gui/ui.py\", line 423, in callback2\n",
      "    callback(key)\n",
      "  File \"/home/roberto/anaconda3/envs/dftb/lib/python3.10/site-packages/ase/gui/gui.py\", line 115, in step\n",
      "    self.movie_window.frame_number.value = i + 1\n",
      "  File \"/home/roberto/anaconda3/envs/dftb/lib/python3.10/site-packages/ase/gui/ui.py\", line 290, in value\n",
      "    self.scale.set(x)\n",
      "  File \"/home/roberto/anaconda3/envs/dftb/lib/python3.10/tkinter/__init__.py\", line 3497, in set\n",
      "    self.tk.call(self._w, 'set', value)\n",
      "_tkinter.TclError: invalid command name \".!toplevel.!scale\"\n",
      "Exception in Tkinter callback\n",
      "Traceback (most recent call last):\n",
      "  File \"/home/roberto/anaconda3/envs/dftb/lib/python3.10/tkinter/__init__.py\", line 1921, in __call__\n",
      "    return self.func(*args)\n",
      "  File \"/home/roberto/anaconda3/envs/dftb/lib/python3.10/site-packages/ase/gui/ui.py\", line 423, in callback2\n",
      "    callback(key)\n",
      "  File \"/home/roberto/anaconda3/envs/dftb/lib/python3.10/site-packages/ase/gui/gui.py\", line 115, in step\n",
      "    self.movie_window.frame_number.value = i + 1\n",
      "  File \"/home/roberto/anaconda3/envs/dftb/lib/python3.10/site-packages/ase/gui/ui.py\", line 290, in value\n",
      "    self.scale.set(x)\n",
      "  File \"/home/roberto/anaconda3/envs/dftb/lib/python3.10/tkinter/__init__.py\", line 3497, in set\n",
      "    self.tk.call(self._w, 'set', value)\n",
      "_tkinter.TclError: invalid command name \".!toplevel.!scale\"\n",
      "Exception in Tkinter callback\n",
      "Traceback (most recent call last):\n",
      "  File \"/home/roberto/anaconda3/envs/dftb/lib/python3.10/tkinter/__init__.py\", line 1921, in __call__\n",
      "    return self.func(*args)\n",
      "  File \"/home/roberto/anaconda3/envs/dftb/lib/python3.10/site-packages/ase/gui/ui.py\", line 423, in callback2\n",
      "    callback(key)\n",
      "  File \"/home/roberto/anaconda3/envs/dftb/lib/python3.10/site-packages/ase/gui/gui.py\", line 115, in step\n",
      "    self.movie_window.frame_number.value = i + 1\n",
      "  File \"/home/roberto/anaconda3/envs/dftb/lib/python3.10/site-packages/ase/gui/ui.py\", line 290, in value\n",
      "    self.scale.set(x)\n",
      "  File \"/home/roberto/anaconda3/envs/dftb/lib/python3.10/tkinter/__init__.py\", line 3497, in set\n",
      "    self.tk.call(self._w, 'set', value)\n",
      "_tkinter.TclError: invalid command name \".!toplevel.!scale\"\n",
      "Exception in Tkinter callback\n",
      "Traceback (most recent call last):\n",
      "  File \"/home/roberto/anaconda3/envs/dftb/lib/python3.10/tkinter/__init__.py\", line 1921, in __call__\n",
      "    return self.func(*args)\n",
      "  File \"/home/roberto/anaconda3/envs/dftb/lib/python3.10/site-packages/ase/gui/ui.py\", line 423, in callback2\n",
      "    callback(key)\n",
      "  File \"/home/roberto/anaconda3/envs/dftb/lib/python3.10/site-packages/ase/gui/gui.py\", line 115, in step\n",
      "    self.movie_window.frame_number.value = i + 1\n",
      "  File \"/home/roberto/anaconda3/envs/dftb/lib/python3.10/site-packages/ase/gui/ui.py\", line 290, in value\n",
      "    self.scale.set(x)\n",
      "  File \"/home/roberto/anaconda3/envs/dftb/lib/python3.10/tkinter/__init__.py\", line 3497, in set\n",
      "    self.tk.call(self._w, 'set', value)\n",
      "_tkinter.TclError: invalid command name \".!toplevel.!scale\"\n"
     ]
    }
   ],
   "source": [
    "view([initial_ed,final_ed])"
   ]
  },
  {
   "cell_type": "code",
   "execution_count": null,
   "metadata": {},
   "outputs": [],
   "source": []
  }
 ],
 "metadata": {
  "kernelspec": {
   "display_name": "dftb",
   "language": "python",
   "name": "python3"
  },
  "language_info": {
   "codemirror_mode": {
    "name": "ipython",
    "version": 3
   },
   "file_extension": ".py",
   "mimetype": "text/x-python",
   "name": "python",
   "nbconvert_exporter": "python",
   "pygments_lexer": "ipython3",
   "version": "3.10.2"
  },
  "orig_nbformat": 4
 },
 "nbformat": 4,
 "nbformat_minor": 2
}
